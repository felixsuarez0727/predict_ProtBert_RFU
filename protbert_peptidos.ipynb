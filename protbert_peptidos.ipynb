{
 "cells": [
  {
   "cell_type": "code",
   "execution_count": null,
   "id": "XbnCczxDiPQc",
   "metadata": {
    "colab": {
     "base_uri": "https://localhost:8080/"
    },
    "executionInfo": {
     "elapsed": 1169,
     "status": "ok",
     "timestamp": 1749066210487,
     "user": {
      "displayName": "Felix Suarez",
      "userId": "01239497444738052014"
     },
     "user_tz": 300
    },
    "id": "XbnCczxDiPQc",
    "outputId": "8c038500-44e5-46c7-d0da-d54b00ee98b4"
   },
   "outputs": [
    {
     "name": "stdout",
     "output_type": "stream",
     "text": [
      "Drive already mounted at /content/drive; to attempt to forcibly remount, call drive.mount(\"/content/drive\", force_remount=True).\n"
     ]
    }
   ],
   "source": [
    "from google.colab import drive\n",
    "drive.mount('/content/drive')"
   ]
  },
  {
   "cell_type": "code",
   "execution_count": null,
   "id": "vMzKYydjiONr",
   "metadata": {
    "colab": {
     "base_uri": "https://localhost:8080/"
    },
    "executionInfo": {
     "elapsed": 43,
     "status": "ok",
     "timestamp": 1749066210488,
     "user": {
      "displayName": "Felix Suarez",
      "userId": "01239497444738052014"
     },
     "user_tz": 300
    },
    "id": "vMzKYydjiONr",
    "outputId": "568f6222-d78c-4843-d1ac-a706b2c03bd6"
   },
   "outputs": [],
   "source": [
    "%cd /content/drive/MyDrive #editar esta ruta"
   ]
  },
  {
   "cell_type": "code",
   "execution_count": null,
   "id": "3f23cb04",
   "metadata": {
    "id": "3f23cb04"
   },
   "outputs": [],
   "source": [
    "!pip install -q --upgrade transformers scikit-learn pandas"
   ]
  },
  {
   "cell_type": "code",
   "execution_count": null,
   "id": "57bb8f75",
   "metadata": {
    "id": "57bb8f75"
   },
   "outputs": [],
   "source": [
    "import pandas as pd\n",
    "import torch\n",
    "import numpy as np\n",
    "from torch.utils.data import DataLoader\n",
    "from transformers import BertTokenizer\n",
    "from sklearn.model_selection import train_test_split\n",
    "from sklearn.preprocessing import StandardScaler\n",
    "from torch import nn\n",
    "from torch.optim import AdamW\n",
    "from torch.optim.lr_scheduler import ReduceLROnPlateau\n",
    "from sklearn.metrics import mean_squared_error, mean_absolute_error, r2_score\n",
    "from tqdm import tqdm\n",
    "from torch.cuda.amp import GradScaler, autocast\n",
    "import matplotlib.pyplot as plt\n",
    "import joblib\n",
    "\n",
    "from data.dataset import PeptideDataset\n",
    "from model.network import BertRegressor"
   ]
  },
  {
   "cell_type": "code",
   "execution_count": null,
   "id": "788754aa",
   "metadata": {
    "id": "788754aa"
   },
   "outputs": [],
   "source": [
    "df = pd.read_csv(\"data/data_rfu.csv\")\n",
    "\n",
    "scaler = StandardScaler()\n",
    "df['label'] = scaler.fit_transform(df[['label']])\n",
    "joblib.dump(scaler, \"./saved_model/scaler.pkl\")\n",
    "\n",
    "# Dividir: 81% train / 9% val / 10% test\n",
    "train_val_texts, test_texts, train_val_labels, test_labels = train_test_split(\n",
    "    df['sequence'], df['label'], test_size=0.10, random_state=42\n",
    ")\n",
    "\n",
    "train_texts, val_texts, train_labels, val_labels = train_test_split(\n",
    "    train_val_texts, train_val_labels, test_size=0.10, random_state=42\n",
    ")\n",
    "\n",
    "# Configuracion del tokenizador\n",
    "tokenizer = BertTokenizer.from_pretrained(\"Rostlab/prot_bert\", do_lower_case=False)\n",
    "train_dataset = PeptideDataset(train_texts.tolist(), train_labels.tolist(), tokenizer)\n",
    "val_dataset = PeptideDataset(val_texts.tolist(), val_labels.tolist(), tokenizer)\n",
    "test_dataset = PeptideDataset(test_texts.tolist(), test_labels.tolist(), tokenizer)\n",
    "\n",
    "# Configuraracion de DataLoaders\n",
    "train_loader = DataLoader(train_dataset, batch_size=8, shuffle=True)\n",
    "val_loader = DataLoader(val_dataset, batch_size=8)\n",
    "test_loader = DataLoader(test_dataset, batch_size=8)"
   ]
  },
  {
   "cell_type": "code",
   "execution_count": null,
   "id": "1544357d",
   "metadata": {
    "id": "1544357d"
   },
   "outputs": [],
   "source": [
    "device = torch.device(\"cuda\" if torch.cuda.is_available() else \"cpu\")\n",
    "model = BertRegressor().to(device)\n",
    "optimizer = AdamW(model.parameters(), lr=1e-4, weight_decay=0.01)\n",
    "loss_fn = nn.MSELoss()\n",
    "scheduler = ReduceLROnPlateau(optimizer, mode='min', factor=0.1, patience=5, verbose=True)"
   ]
  },
  {
   "cell_type": "code",
   "execution_count": null,
   "id": "TC7vM_4ccGu1",
   "metadata": {
    "id": "TC7vM_4ccGu1"
   },
   "outputs": [],
   "source": [
    "def train(model, train_loader, val_loader, optimizer, loss_fn, device, epochs, patience=5):\n",
    "    scaler = GradScaler()\n",
    "    best_val_rmse = float('inf')\n",
    "    patience_counter = 0\n",
    "    best_model_path = \"./saved_model/best_model.pth\"\n",
    "\n",
    "    for epoch in range(epochs):\n",
    "        model.train()\n",
    "        total_loss = 0\n",
    "        progress_bar = tqdm(train_loader, desc=f\"Época {epoch+1}\", leave=False)\n",
    "\n",
    "        for batch in progress_bar:\n",
    "            input_ids = batch['input_ids'].to(device)\n",
    "            attention_mask = batch['attention_mask'].to(device)\n",
    "            labels = batch['label'].to(device)\n",
    "\n",
    "            optimizer.zero_grad()\n",
    "            with autocast():\n",
    "                outputs = model(input_ids, attention_mask)\n",
    "                loss = loss_fn(outputs, labels)\n",
    "\n",
    "            scaler.scale(loss).backward()\n",
    "            scaler.unscale_(optimizer)\n",
    "            torch.nn.utils.clip_grad_norm_(model.parameters(), max_norm=1.0)\n",
    "            scaler.step(optimizer)\n",
    "            scaler.update()\n",
    "\n",
    "            total_loss += loss.item()\n",
    "            progress_bar.set_postfix({'pérdida_lote': loss.item()})\n",
    "\n",
    "        avg_train_loss = total_loss / len(train_loader)\n",
    "\n",
    "        #evaluar en validación\n",
    "        val_rmse, val_mae, val_r2, _, _ = evaluate(model, val_loader, device)\n",
    "        print(f\"📘 Época {epoch+1} | Pérdida de entrenamiento: {avg_train_loss:.4f} | Val RMSE: {val_rmse:.4f} | Val MAE: {val_mae:.4f} | Val R²: {val_r2:.4f}\")\n",
    "\n",
    "        #actualizar programador\n",
    "        scheduler.step(val_rmse)\n",
    "\n",
    "        #Detención temprana para evitar sobre ajuste\n",
    "        if val_rmse < best_val_rmse:\n",
    "            best_val_rmse = val_rmse\n",
    "            patience_counter = 0\n",
    "            torch.save(model.state_dict(), best_model_path)\n",
    "        else:\n",
    "            patience_counter += 1\n",
    "            if patience_counter >= patience:\n",
    "                print(f\"Detención temprana en la época {epoch+1}\")\n",
    "                break\n",
    "\n",
    "    #Cargar el mejor modelo\n",
    "    model.load_state_dict(torch.load(best_model_path, map_location=device))\n",
    "    return avg_train_loss\n",
    "\n",
    "def evaluate(model, test_loader, device):\n",
    "    model.eval()\n",
    "    predictions, actuals = [], []\n",
    "    with torch.no_grad():\n",
    "        for batch in tqdm(test_loader, desc=\"Evaluando\", leave=False):\n",
    "            input_ids = batch['input_ids'].to(device)\n",
    "            attention_mask = batch['attention_mask'].to(device)\n",
    "            labels = batch['label'].to(device)\n",
    "\n",
    "            outputs = model(input_ids, attention_mask)\n",
    "            predictions.extend(outputs.cpu().numpy())\n",
    "            actuals.extend(labels.cpu().numpy())\n",
    "\n",
    "    predictions = np.array(predictions)\n",
    "    actuals = np.array(actuals)\n",
    "\n",
    "    rmse = np.sqrt(mean_squared_error(actuals, predictions))\n",
    "    mae = mean_absolute_error(actuals, predictions)\n",
    "    r2 = r2_score(actuals, predictions)\n",
    "\n",
    "    # Guardar resultados\n",
    "    df_results = pd.DataFrame({\n",
    "        \"real\": actuals,\n",
    "        \"predicho\": predictions\n",
    "    })\n",
    "    df_results.to_csv(\"./saved_model/test_results.csv\", index=False)\n",
    "\n",
    "    # Graficar predicciones\n",
    "    plt.figure(figsize=(8, 6))\n",
    "    plt.scatter(actuals, predictions, alpha=0.5)\n",
    "    plt.plot([min(actuals), max(actuals)], [min(actuals), max(actuals)], 'r--', lw=2)\n",
    "    plt.xlabel(\"Valores reales (escalados)\")\n",
    "    plt.ylabel(\"Predicciones (escalados)\")\n",
    "    plt.title(\"Predicciones vs. Valores reales\")\n",
    "    plt.savefig(\"./saved_model/predictions_plot.png\")\n",
    "    plt.close()\n",
    "\n",
    "    return rmse, mae, r2, predictions, actuals"
   ]
  },
  {
   "cell_type": "code",
   "execution_count": null,
   "id": "30CEaZKScGhG",
   "metadata": {
    "colab": {
     "base_uri": "https://localhost:8080/"
    },
    "executionInfo": {
     "elapsed": 946562,
     "status": "ok",
     "timestamp": 1749067169360,
     "user": {
      "displayName": "Felix Suarez",
      "userId": "01239497444738052014"
     },
     "user_tz": 300
    },
    "id": "30CEaZKScGhG",
    "outputId": "e80bd092-cd13-47f5-eab9-00e4b7abf82e"
   },
   "outputs": [
    {
     "name": "stderr",
     "output_type": "stream",
     "text": [
      "<ipython-input-26-ec4cb1da0614>:2: FutureWarning: `torch.cuda.amp.GradScaler(args...)` is deprecated. Please use `torch.amp.GradScaler('cuda', args...)` instead.\n",
      "  scaler = GradScaler()\n",
      "Época 1:   0%|          | 0/48 [00:00<?, ?it/s]<ipython-input-26-ec4cb1da0614>:18: FutureWarning: `torch.cuda.amp.autocast(args...)` is deprecated. Please use `torch.amp.autocast('cuda', args...)` instead.\n",
      "  with autocast():\n",
      "Época 1:  10%|█         | 5/48 [00:01<00:13,  3.14it/s, pérdida_lote=0.738]<ipython-input-26-ec4cb1da0614>:18: FutureWarning: `torch.cuda.amp.autocast(args...)` is deprecated. Please use `torch.amp.autocast('cuda', args...)` instead.\n",
      "  with autocast():\n",
      "Época 1:  29%|██▉       | 14/48 [00:04<00:09,  3.41it/s, pérdida_lote=0.477]<ipython-input-26-ec4cb1da0614>:18: FutureWarning: `torch.cuda.amp.autocast(args...)` is deprecated. Please use `torch.amp.autocast('cuda', args...)` instead.\n",
      "  with autocast():\n",
      "Época 1:  40%|███▉      | 19/48 [00:05<00:08,  3.34it/s, pérdida_lote=0.606]<ipython-input-26-ec4cb1da0614>:18: FutureWarning: `torch.cuda.amp.autocast(args...)` is deprecated. Please use `torch.amp.autocast('cuda', args...)` instead.\n",
      "  with autocast():\n",
      "Época 1:  46%|████▌     | 22/48 [00:06<00:07,  3.28it/s, pérdida_lote=1.66]<ipython-input-26-ec4cb1da0614>:18: FutureWarning: `torch.cuda.amp.autocast(args...)` is deprecated. Please use `torch.amp.autocast('cuda', args...)` instead.\n",
      "  with autocast():\n",
      "Época 1:  50%|█████     | 24/48 [00:07<00:07,  3.35it/s, pérdida_lote=0.562]<ipython-input-26-ec4cb1da0614>:18: FutureWarning: `torch.cuda.amp.autocast(args...)` is deprecated. Please use `torch.amp.autocast('cuda', args...)` instead.\n",
      "  with autocast():\n",
      "Época 1:  56%|█████▋    | 27/48 [00:08<00:06,  3.42it/s, pérdida_lote=1.77]<ipython-input-26-ec4cb1da0614>:18: FutureWarning: `torch.cuda.amp.autocast(args...)` is deprecated. Please use `torch.amp.autocast('cuda', args...)` instead.\n",
      "  with autocast():\n",
      "Época 1:  62%|██████▎   | 30/48 [00:09<00:05,  3.39it/s, pérdida_lote=0.603]<ipython-input-26-ec4cb1da0614>:18: FutureWarning: `torch.cuda.amp.autocast(args...)` is deprecated. Please use `torch.amp.autocast('cuda', args...)` instead.\n",
      "  with autocast():\n",
      "Época 1:  71%|███████   | 34/48 [00:10<00:04,  3.31it/s, pérdida_lote=0.508]<ipython-input-26-ec4cb1da0614>:18: FutureWarning: `torch.cuda.amp.autocast(args...)` is deprecated. Please use `torch.amp.autocast('cuda', args...)` instead.\n",
      "  with autocast():\n",
      "Época 1:  77%|███████▋  | 37/48 [00:11<00:03,  3.44it/s, pérdida_lote=0.538]<ipython-input-26-ec4cb1da0614>:18: FutureWarning: `torch.cuda.amp.autocast(args...)` is deprecated. Please use `torch.amp.autocast('cuda', args...)` instead.\n",
      "  with autocast():\n",
      "Época 1:  83%|████████▎ | 40/48 [00:11<00:02,  3.39it/s, pérdida_lote=0.695]<ipython-input-26-ec4cb1da0614>:18: FutureWarning: `torch.cuda.amp.autocast(args...)` is deprecated. Please use `torch.amp.autocast('cuda', args...)` instead.\n",
      "  with autocast():\n",
      "Época 1:  96%|█████████▌| 46/48 [00:13<00:00,  3.21it/s, pérdida_lote=1.24]<ipython-input-26-ec4cb1da0614>:18: FutureWarning: `torch.cuda.amp.autocast(args...)` is deprecated. Please use `torch.amp.autocast('cuda', args...)` instead.\n",
      "  with autocast():\n"
     ]
    },
    {
     "name": "stdout",
     "output_type": "stream",
     "text": [
      "📘 Época 1 | Pérdida de entrenamiento: 0.8873 | Val RMSE: 0.8526 | Val MAE: 0.7141 | Val R²: 0.2077\n"
     ]
    },
    {
     "name": "stderr",
     "output_type": "stream",
     "text": [
      "\rÉpoca 2:   0%|          | 0/48 [00:00<?, ?it/s]<ipython-input-26-ec4cb1da0614>:18: FutureWarning: `torch.cuda.amp.autocast(args...)` is deprecated. Please use `torch.amp.autocast('cuda', args...)` instead.\n",
      "  with autocast():\n",
      "Época 2:   4%|▍         | 2/48 [00:00<00:13,  3.31it/s, pérdida_lote=0.825]<ipython-input-26-ec4cb1da0614>:18: FutureWarning: `torch.cuda.amp.autocast(args...)` is deprecated. Please use `torch.amp.autocast('cuda', args...)` instead.\n",
      "  with autocast():\n",
      "Época 2:   6%|▋         | 3/48 [00:00<00:13,  3.45it/s, pérdida_lote=1.44]<ipython-input-26-ec4cb1da0614>:18: FutureWarning: `torch.cuda.amp.autocast(args...)` is deprecated. Please use `torch.amp.autocast('cuda', args...)` instead.\n",
      "  with autocast():\n",
      "Época 2:  12%|█▎        | 6/48 [00:01<00:12,  3.43it/s, pérdida_lote=0.662]<ipython-input-26-ec4cb1da0614>:18: FutureWarning: `torch.cuda.amp.autocast(args...)` is deprecated. Please use `torch.amp.autocast('cuda', args...)` instead.\n",
      "  with autocast():\n",
      "Época 2:  25%|██▌       | 12/48 [00:03<00:10,  3.47it/s, pérdida_lote=0.633]<ipython-input-26-ec4cb1da0614>:18: FutureWarning: `torch.cuda.amp.autocast(args...)` is deprecated. Please use `torch.amp.autocast('cuda', args...)` instead.\n",
      "  with autocast():\n",
      "Época 2:  29%|██▉       | 14/48 [00:04<00:09,  3.49it/s, pérdida_lote=0.85]<ipython-input-26-ec4cb1da0614>:18: FutureWarning: `torch.cuda.amp.autocast(args...)` is deprecated. Please use `torch.amp.autocast('cuda', args...)` instead.\n",
      "  with autocast():\n",
      "Época 2:  35%|███▌      | 17/48 [00:04<00:08,  3.49it/s, pérdida_lote=0.92]<ipython-input-26-ec4cb1da0614>:18: FutureWarning: `torch.cuda.amp.autocast(args...)` is deprecated. Please use `torch.amp.autocast('cuda', args...)` instead.\n",
      "  with autocast():\n",
      "Época 2:  48%|████▊     | 23/48 [00:06<00:07,  3.51it/s, pérdida_lote=0.731]<ipython-input-26-ec4cb1da0614>:18: FutureWarning: `torch.cuda.amp.autocast(args...)` is deprecated. Please use `torch.amp.autocast('cuda', args...)` instead.\n",
      "  with autocast():\n",
      "Época 2:  50%|█████     | 24/48 [00:06<00:06,  3.49it/s, pérdida_lote=0.851]<ipython-input-26-ec4cb1da0614>:18: FutureWarning: `torch.cuda.amp.autocast(args...)` is deprecated. Please use `torch.amp.autocast('cuda', args...)` instead.\n",
      "  with autocast():\n",
      "Época 2:  56%|█████▋    | 27/48 [00:07<00:06,  3.44it/s, pérdida_lote=0.351]<ipython-input-26-ec4cb1da0614>:18: FutureWarning: `torch.cuda.amp.autocast(args...)` is deprecated. Please use `torch.amp.autocast('cuda', args...)` instead.\n",
      "  with autocast():\n",
      "Época 2:  69%|██████▉   | 33/48 [00:09<00:04,  3.46it/s, pérdida_lote=0.578]<ipython-input-26-ec4cb1da0614>:18: FutureWarning: `torch.cuda.amp.autocast(args...)` is deprecated. Please use `torch.amp.autocast('cuda', args...)` instead.\n",
      "  with autocast():\n",
      "Época 2:  73%|███████▎  | 35/48 [00:10<00:03,  3.49it/s, pérdida_lote=0.688]<ipython-input-26-ec4cb1da0614>:18: FutureWarning: `torch.cuda.amp.autocast(args...)` is deprecated. Please use `torch.amp.autocast('cuda', args...)` instead.\n",
      "  with autocast():\n",
      "Época 2:  79%|███████▉  | 38/48 [00:10<00:02,  3.44it/s, pérdida_lote=0.909]<ipython-input-26-ec4cb1da0614>:18: FutureWarning: `torch.cuda.amp.autocast(args...)` is deprecated. Please use `torch.amp.autocast('cuda', args...)` instead.\n",
      "  with autocast():\n",
      "Época 2:  92%|█████████▏| 44/48 [00:12<00:01,  3.41it/s, pérdida_lote=0.711]<ipython-input-26-ec4cb1da0614>:18: FutureWarning: `torch.cuda.amp.autocast(args...)` is deprecated. Please use `torch.amp.autocast('cuda', args...)` instead.\n",
      "  with autocast():\n",
      "Época 2:  94%|█████████▍| 45/48 [00:12<00:00,  3.42it/s, pérdida_lote=0.601]<ipython-input-26-ec4cb1da0614>:18: FutureWarning: `torch.cuda.amp.autocast(args...)` is deprecated. Please use `torch.amp.autocast('cuda', args...)` instead.\n",
      "  with autocast():\n"
     ]
    },
    {
     "name": "stdout",
     "output_type": "stream",
     "text": [
      "📘 Época 2 | Pérdida de entrenamiento: 0.7019 | Val RMSE: 0.7249 | Val MAE: 0.5588 | Val R²: 0.4273\n"
     ]
    },
    {
     "name": "stderr",
     "output_type": "stream",
     "text": [
      "\rÉpoca 3:   0%|          | 0/48 [00:00<?, ?it/s]<ipython-input-26-ec4cb1da0614>:18: FutureWarning: `torch.cuda.amp.autocast(args...)` is deprecated. Please use `torch.amp.autocast('cuda', args...)` instead.\n",
      "  with autocast():\n",
      "Época 3:  10%|█         | 5/48 [00:01<00:13,  3.19it/s, pérdida_lote=0.242]<ipython-input-26-ec4cb1da0614>:18: FutureWarning: `torch.cuda.amp.autocast(args...)` is deprecated. Please use `torch.amp.autocast('cuda', args...)` instead.\n",
      "  with autocast():\n",
      "Época 3:  17%|█▋        | 8/48 [00:02<00:11,  3.45it/s, pérdida_lote=0.442]<ipython-input-26-ec4cb1da0614>:18: FutureWarning: `torch.cuda.amp.autocast(args...)` is deprecated. Please use `torch.amp.autocast('cuda', args...)` instead.\n",
      "  with autocast():\n",
      "Época 3:  25%|██▌       | 12/48 [00:03<00:10,  3.53it/s, pérdida_lote=0.461]<ipython-input-26-ec4cb1da0614>:18: FutureWarning: `torch.cuda.amp.autocast(args...)` is deprecated. Please use `torch.amp.autocast('cuda', args...)` instead.\n",
      "  with autocast():\n",
      "Época 3:  27%|██▋       | 13/48 [00:04<00:09,  3.52it/s, pérdida_lote=0.928]<ipython-input-26-ec4cb1da0614>:18: FutureWarning: `torch.cuda.amp.autocast(args...)` is deprecated. Please use `torch.amp.autocast('cuda', args...)` instead.\n",
      "  with autocast():\n",
      "Época 3:  35%|███▌      | 17/48 [00:05<00:09,  3.38it/s, pérdida_lote=0.418]<ipython-input-26-ec4cb1da0614>:18: FutureWarning: `torch.cuda.amp.autocast(args...)` is deprecated. Please use `torch.amp.autocast('cuda', args...)` instead.\n",
      "  with autocast():\n",
      "Época 3:  46%|████▌     | 22/48 [00:06<00:07,  3.51it/s, pérdida_lote=0.979]<ipython-input-26-ec4cb1da0614>:18: FutureWarning: `torch.cuda.amp.autocast(args...)` is deprecated. Please use `torch.amp.autocast('cuda', args...)` instead.\n",
      "  with autocast():\n",
      "Época 3:  48%|████▊     | 23/48 [00:06<00:07,  3.48it/s, pérdida_lote=0.326]<ipython-input-26-ec4cb1da0614>:18: FutureWarning: `torch.cuda.amp.autocast(args...)` is deprecated. Please use `torch.amp.autocast('cuda', args...)` instead.\n",
      "  with autocast():\n",
      "Época 3:  54%|█████▍    | 26/48 [00:07<00:06,  3.55it/s, pérdida_lote=0.535]<ipython-input-26-ec4cb1da0614>:18: FutureWarning: `torch.cuda.amp.autocast(args...)` is deprecated. Please use `torch.amp.autocast('cuda', args...)` instead.\n",
      "  with autocast():\n",
      "Época 3:  62%|██████▎   | 30/48 [00:08<00:05,  3.53it/s, pérdida_lote=0.546]<ipython-input-26-ec4cb1da0614>:18: FutureWarning: `torch.cuda.amp.autocast(args...)` is deprecated. Please use `torch.amp.autocast('cuda', args...)` instead.\n",
      "  with autocast():\n",
      "Época 3:  71%|███████   | 34/48 [00:09<00:03,  3.56it/s, pérdida_lote=0.226]<ipython-input-26-ec4cb1da0614>:18: FutureWarning: `torch.cuda.amp.autocast(args...)` is deprecated. Please use `torch.amp.autocast('cuda', args...)` instead.\n",
      "  with autocast():\n",
      "Época 3:  83%|████████▎ | 40/48 [00:11<00:02,  3.56it/s, pérdida_lote=0.46]<ipython-input-26-ec4cb1da0614>:18: FutureWarning: `torch.cuda.amp.autocast(args...)` is deprecated. Please use `torch.amp.autocast('cuda', args...)` instead.\n",
      "  with autocast():\n",
      "Época 3:  85%|████████▌ | 41/48 [00:11<00:01,  3.55it/s, pérdida_lote=0.624]<ipython-input-26-ec4cb1da0614>:18: FutureWarning: `torch.cuda.amp.autocast(args...)` is deprecated. Please use `torch.amp.autocast('cuda', args...)` instead.\n",
      "  with autocast():\n",
      "Época 3:  98%|█████████▊| 47/48 [00:13<00:00,  3.56it/s, pérdida_lote=0.757]<ipython-input-26-ec4cb1da0614>:18: FutureWarning: `torch.cuda.amp.autocast(args...)` is deprecated. Please use `torch.amp.autocast('cuda', args...)` instead.\n",
      "  with autocast():\n"
     ]
    },
    {
     "name": "stdout",
     "output_type": "stream",
     "text": [
      "📘 Época 3 | Pérdida de entrenamiento: 0.4718 | Val RMSE: 0.6367 | Val MAE: 0.4883 | Val R²: 0.5581\n"
     ]
    },
    {
     "name": "stderr",
     "output_type": "stream",
     "text": [
      "\rÉpoca 4:   0%|          | 0/48 [00:00<?, ?it/s]<ipython-input-26-ec4cb1da0614>:18: FutureWarning: `torch.cuda.amp.autocast(args...)` is deprecated. Please use `torch.amp.autocast('cuda', args...)` instead.\n",
      "  with autocast():\n",
      "Época 4:   4%|▍         | 2/48 [00:00<00:15,  3.06it/s, pérdida_lote=0.58]<ipython-input-26-ec4cb1da0614>:18: FutureWarning: `torch.cuda.amp.autocast(args...)` is deprecated. Please use `torch.amp.autocast('cuda', args...)` instead.\n",
      "  with autocast():\n",
      "Época 4:  10%|█         | 5/48 [00:01<00:12,  3.47it/s, pérdida_lote=0.407]<ipython-input-26-ec4cb1da0614>:18: FutureWarning: `torch.cuda.amp.autocast(args...)` is deprecated. Please use `torch.amp.autocast('cuda', args...)` instead.\n",
      "  with autocast():\n",
      "Época 4:  23%|██▎       | 11/48 [00:03<00:10,  3.58it/s, pérdida_lote=0.443]<ipython-input-26-ec4cb1da0614>:18: FutureWarning: `torch.cuda.amp.autocast(args...)` is deprecated. Please use `torch.amp.autocast('cuda', args...)` instead.\n",
      "  with autocast():\n",
      "Época 4:  25%|██▌       | 12/48 [00:03<00:10,  3.53it/s, pérdida_lote=0.827]<ipython-input-26-ec4cb1da0614>:18: FutureWarning: `torch.cuda.amp.autocast(args...)` is deprecated. Please use `torch.amp.autocast('cuda', args...)` instead.\n",
      "  with autocast():\n",
      "Época 4:  33%|███▎      | 16/48 [00:04<00:08,  3.58it/s, pérdida_lote=0.203]<ipython-input-26-ec4cb1da0614>:18: FutureWarning: `torch.cuda.amp.autocast(args...)` is deprecated. Please use `torch.amp.autocast('cuda', args...)` instead.\n",
      "  with autocast():\n",
      "Época 4:  46%|████▌     | 22/48 [00:06<00:07,  3.59it/s, pérdida_lote=0.561]<ipython-input-26-ec4cb1da0614>:18: FutureWarning: `torch.cuda.amp.autocast(args...)` is deprecated. Please use `torch.amp.autocast('cuda', args...)` instead.\n",
      "  with autocast():\n",
      "Época 4:  48%|████▊     | 23/48 [00:06<00:06,  3.57it/s, pérdida_lote=0.27]<ipython-input-26-ec4cb1da0614>:18: FutureWarning: `torch.cuda.amp.autocast(args...)` is deprecated. Please use `torch.amp.autocast('cuda', args...)` instead.\n",
      "  with autocast():\n",
      "Época 4:  54%|█████▍    | 26/48 [00:07<00:06,  3.47it/s, pérdida_lote=0.514]<ipython-input-26-ec4cb1da0614>:18: FutureWarning: `torch.cuda.amp.autocast(args...)` is deprecated. Please use `torch.amp.autocast('cuda', args...)` instead.\n",
      "  with autocast():\n",
      "Época 4:  67%|██████▋   | 32/48 [00:09<00:04,  3.50it/s, pérdida_lote=0.0757]<ipython-input-26-ec4cb1da0614>:18: FutureWarning: `torch.cuda.amp.autocast(args...)` is deprecated. Please use `torch.amp.autocast('cuda', args...)` instead.\n",
      "  with autocast():\n",
      "Época 4:  75%|███████▌  | 36/48 [00:10<00:03,  3.49it/s, pérdida_lote=0.434]<ipython-input-26-ec4cb1da0614>:18: FutureWarning: `torch.cuda.amp.autocast(args...)` is deprecated. Please use `torch.amp.autocast('cuda', args...)` instead.\n",
      "  with autocast():\n",
      "Época 4:  81%|████████▏ | 39/48 [00:11<00:02,  3.45it/s, pérdida_lote=0.152]<ipython-input-26-ec4cb1da0614>:18: FutureWarning: `torch.cuda.amp.autocast(args...)` is deprecated. Please use `torch.amp.autocast('cuda', args...)` instead.\n",
      "  with autocast():\n",
      "Época 4:  85%|████████▌ | 41/48 [00:11<00:02,  3.31it/s, pérdida_lote=0.46]<ipython-input-26-ec4cb1da0614>:18: FutureWarning: `torch.cuda.amp.autocast(args...)` is deprecated. Please use `torch.amp.autocast('cuda', args...)` instead.\n",
      "  with autocast():\n",
      "Época 4:  96%|█████████▌| 46/48 [00:13<00:00,  3.28it/s, pérdida_lote=0.0618]<ipython-input-26-ec4cb1da0614>:18: FutureWarning: `torch.cuda.amp.autocast(args...)` is deprecated. Please use `torch.amp.autocast('cuda', args...)` instead.\n",
      "  with autocast():\n"
     ]
    },
    {
     "name": "stdout",
     "output_type": "stream",
     "text": [
      "📘 Época 4 | Pérdida de entrenamiento: 0.4004 | Val RMSE: 0.8427 | Val MAE: 0.6295 | Val R²: 0.2260\n"
     ]
    },
    {
     "name": "stderr",
     "output_type": "stream",
     "text": [
      "\rÉpoca 5:   0%|          | 0/48 [00:00<?, ?it/s]<ipython-input-26-ec4cb1da0614>:18: FutureWarning: `torch.cuda.amp.autocast(args...)` is deprecated. Please use `torch.amp.autocast('cuda', args...)` instead.\n",
      "  with autocast():\n",
      "Época 5:   2%|▏         | 1/48 [00:00<00:13,  3.43it/s, pérdida_lote=0.765]<ipython-input-26-ec4cb1da0614>:18: FutureWarning: `torch.cuda.amp.autocast(args...)` is deprecated. Please use `torch.amp.autocast('cuda', args...)` instead.\n",
      "  with autocast():\n",
      "Época 5:   6%|▋         | 3/48 [00:00<00:12,  3.54it/s, pérdida_lote=0.416]<ipython-input-26-ec4cb1da0614>:18: FutureWarning: `torch.cuda.amp.autocast(args...)` is deprecated. Please use `torch.amp.autocast('cuda', args...)` instead.\n",
      "  with autocast():\n",
      "Época 5:  12%|█▎        | 6/48 [00:01<00:12,  3.44it/s, pérdida_lote=0.393]<ipython-input-26-ec4cb1da0614>:18: FutureWarning: `torch.cuda.amp.autocast(args...)` is deprecated. Please use `torch.amp.autocast('cuda', args...)` instead.\n",
      "  with autocast():\n",
      "Época 5:  21%|██        | 10/48 [00:02<00:11,  3.44it/s, pérdida_lote=0.429]<ipython-input-26-ec4cb1da0614>:18: FutureWarning: `torch.cuda.amp.autocast(args...)` is deprecated. Please use `torch.amp.autocast('cuda', args...)` instead.\n",
      "  with autocast():\n",
      "Época 5:  27%|██▋       | 13/48 [00:03<00:10,  3.46it/s, pérdida_lote=0.264]<ipython-input-26-ec4cb1da0614>:18: FutureWarning: `torch.cuda.amp.autocast(args...)` is deprecated. Please use `torch.amp.autocast('cuda', args...)` instead.\n",
      "  with autocast():\n",
      "Época 5:  33%|███▎      | 16/48 [00:04<00:09,  3.42it/s, pérdida_lote=0.414]<ipython-input-26-ec4cb1da0614>:18: FutureWarning: `torch.cuda.amp.autocast(args...)` is deprecated. Please use `torch.amp.autocast('cuda', args...)` instead.\n",
      "  with autocast():\n",
      "Época 5:  46%|████▌     | 22/48 [00:06<00:07,  3.36it/s, pérdida_lote=0.0603]<ipython-input-26-ec4cb1da0614>:18: FutureWarning: `torch.cuda.amp.autocast(args...)` is deprecated. Please use `torch.amp.autocast('cuda', args...)` instead.\n",
      "  with autocast():\n",
      "Época 5:  52%|█████▏    | 25/48 [00:07<00:06,  3.34it/s, pérdida_lote=0.318]<ipython-input-26-ec4cb1da0614>:18: FutureWarning: `torch.cuda.amp.autocast(args...)` is deprecated. Please use `torch.amp.autocast('cuda', args...)` instead.\n",
      "  with autocast():\n",
      "Época 5:  60%|██████    | 29/48 [00:08<00:05,  3.36it/s, pérdida_lote=0.0956]<ipython-input-26-ec4cb1da0614>:18: FutureWarning: `torch.cuda.amp.autocast(args...)` is deprecated. Please use `torch.amp.autocast('cuda', args...)` instead.\n",
      "  with autocast():\n",
      "Época 5:  62%|██████▎   | 30/48 [00:08<00:05,  3.34it/s, pérdida_lote=0.0237]<ipython-input-26-ec4cb1da0614>:18: FutureWarning: `torch.cuda.amp.autocast(args...)` is deprecated. Please use `torch.amp.autocast('cuda', args...)` instead.\n",
      "  with autocast():\n",
      "Época 5:  73%|███████▎  | 35/48 [00:10<00:03,  3.39it/s, pérdida_lote=0.338]<ipython-input-26-ec4cb1da0614>:18: FutureWarning: `torch.cuda.amp.autocast(args...)` is deprecated. Please use `torch.amp.autocast('cuda', args...)` instead.\n",
      "  with autocast():\n",
      "Época 5:  77%|███████▋  | 37/48 [00:10<00:03,  3.44it/s, pérdida_lote=0.575]<ipython-input-26-ec4cb1da0614>:18: FutureWarning: `torch.cuda.amp.autocast(args...)` is deprecated. Please use `torch.amp.autocast('cuda', args...)` instead.\n",
      "  with autocast():\n",
      "Época 5:  83%|████████▎ | 40/48 [00:11<00:02,  3.47it/s, pérdida_lote=0.443]<ipython-input-26-ec4cb1da0614>:18: FutureWarning: `torch.cuda.amp.autocast(args...)` is deprecated. Please use `torch.amp.autocast('cuda', args...)` instead.\n",
      "  with autocast():\n",
      "Época 5:  96%|█████████▌| 46/48 [00:13<00:00,  3.46it/s, pérdida_lote=0.642]<ipython-input-26-ec4cb1da0614>:18: FutureWarning: `torch.cuda.amp.autocast(args...)` is deprecated. Please use `torch.amp.autocast('cuda', args...)` instead.\n",
      "  with autocast():\n",
      "Época 5:  98%|█████████▊| 47/48 [00:13<00:00,  3.45it/s, pérdida_lote=0.161]<ipython-input-26-ec4cb1da0614>:18: FutureWarning: `torch.cuda.amp.autocast(args...)` is deprecated. Please use `torch.amp.autocast('cuda', args...)` instead.\n",
      "  with autocast():\n"
     ]
    },
    {
     "name": "stdout",
     "output_type": "stream",
     "text": [
      "📘 Época 5 | Pérdida de entrenamiento: 0.3819 | Val RMSE: 0.7036 | Val MAE: 0.5211 | Val R²: 0.4604\n"
     ]
    },
    {
     "name": "stderr",
     "output_type": "stream",
     "text": [
      "\rÉpoca 6:   0%|          | 0/48 [00:00<?, ?it/s]<ipython-input-26-ec4cb1da0614>:18: FutureWarning: `torch.cuda.amp.autocast(args...)` is deprecated. Please use `torch.amp.autocast('cuda', args...)` instead.\n",
      "  with autocast():\n",
      "Época 6:   6%|▋         | 3/48 [00:00<00:13,  3.32it/s, pérdida_lote=0.545]<ipython-input-26-ec4cb1da0614>:18: FutureWarning: `torch.cuda.amp.autocast(args...)` is deprecated. Please use `torch.amp.autocast('cuda', args...)` instead.\n",
      "  with autocast():\n",
      "Época 6:  17%|█▋        | 8/48 [00:02<00:11,  3.36it/s, pérdida_lote=0.128]<ipython-input-26-ec4cb1da0614>:18: FutureWarning: `torch.cuda.amp.autocast(args...)` is deprecated. Please use `torch.amp.autocast('cuda', args...)` instead.\n",
      "  with autocast():\n",
      "Época 6:  23%|██▎       | 11/48 [00:03<00:10,  3.37it/s, pérdida_lote=0.3]<ipython-input-26-ec4cb1da0614>:18: FutureWarning: `torch.cuda.amp.autocast(args...)` is deprecated. Please use `torch.amp.autocast('cuda', args...)` instead.\n",
      "  with autocast():\n",
      "Época 6:  25%|██▌       | 12/48 [00:03<00:10,  3.37it/s, pérdida_lote=0.176]<ipython-input-26-ec4cb1da0614>:18: FutureWarning: `torch.cuda.amp.autocast(args...)` is deprecated. Please use `torch.amp.autocast('cuda', args...)` instead.\n",
      "  with autocast():\n",
      "Época 6:  33%|███▎      | 16/48 [00:04<00:09,  3.42it/s, pérdida_lote=0.308]<ipython-input-26-ec4cb1da0614>:18: FutureWarning: `torch.cuda.amp.autocast(args...)` is deprecated. Please use `torch.amp.autocast('cuda', args...)` instead.\n",
      "  with autocast():\n",
      "Época 6:  46%|████▌     | 22/48 [00:06<00:07,  3.42it/s, pérdida_lote=0.427]<ipython-input-26-ec4cb1da0614>:18: FutureWarning: `torch.cuda.amp.autocast(args...)` is deprecated. Please use `torch.amp.autocast('cuda', args...)` instead.\n",
      "  with autocast():\n",
      "Época 6:  48%|████▊     | 23/48 [00:06<00:07,  3.44it/s, pérdida_lote=0.389]<ipython-input-26-ec4cb1da0614>:18: FutureWarning: `torch.cuda.amp.autocast(args...)` is deprecated. Please use `torch.amp.autocast('cuda', args...)` instead.\n",
      "  with autocast():\n",
      "Época 6:  54%|█████▍    | 26/48 [00:07<00:06,  3.42it/s, pérdida_lote=0.997]<ipython-input-26-ec4cb1da0614>:18: FutureWarning: `torch.cuda.amp.autocast(args...)` is deprecated. Please use `torch.amp.autocast('cuda', args...)` instead.\n",
      "  with autocast():\n",
      "Época 6:  67%|██████▋   | 32/48 [00:09<00:04,  3.41it/s, pérdida_lote=0.262]<ipython-input-26-ec4cb1da0614>:18: FutureWarning: `torch.cuda.amp.autocast(args...)` is deprecated. Please use `torch.amp.autocast('cuda', args...)` instead.\n",
      "  with autocast():\n",
      "Época 6:  69%|██████▉   | 33/48 [00:09<00:04,  3.40it/s, pérdida_lote=0.443]<ipython-input-26-ec4cb1da0614>:18: FutureWarning: `torch.cuda.amp.autocast(args...)` is deprecated. Please use `torch.amp.autocast('cuda', args...)` instead.\n",
      "  with autocast():\n",
      "Época 6:  75%|███████▌  | 36/48 [00:10<00:03,  3.34it/s, pérdida_lote=0.448]<ipython-input-26-ec4cb1da0614>:18: FutureWarning: `torch.cuda.amp.autocast(args...)` is deprecated. Please use `torch.amp.autocast('cuda', args...)` instead.\n",
      "  with autocast():\n",
      "Época 6:  88%|████████▊ | 42/48 [00:12<00:01,  3.36it/s, pérdida_lote=0.244]<ipython-input-26-ec4cb1da0614>:18: FutureWarning: `torch.cuda.amp.autocast(args...)` is deprecated. Please use `torch.amp.autocast('cuda', args...)` instead.\n",
      "  with autocast():\n",
      "Época 6:  90%|████████▉ | 43/48 [00:12<00:01,  3.33it/s, pérdida_lote=0.225]<ipython-input-26-ec4cb1da0614>:18: FutureWarning: `torch.cuda.amp.autocast(args...)` is deprecated. Please use `torch.amp.autocast('cuda', args...)` instead.\n",
      "  with autocast():\n",
      "Época 6:  96%|█████████▌| 46/48 [00:13<00:00,  3.30it/s, pérdida_lote=0.326]<ipython-input-26-ec4cb1da0614>:18: FutureWarning: `torch.cuda.amp.autocast(args...)` is deprecated. Please use `torch.amp.autocast('cuda', args...)` instead.\n",
      "  with autocast():\n"
     ]
    },
    {
     "name": "stdout",
     "output_type": "stream",
     "text": [
      "📘 Época 6 | Pérdida de entrenamiento: 0.3159 | Val RMSE: 0.6626 | Val MAE: 0.5140 | Val R²: 0.5215\n"
     ]
    },
    {
     "name": "stderr",
     "output_type": "stream",
     "text": [
      "\rÉpoca 7:   0%|          | 0/48 [00:00<?, ?it/s]<ipython-input-26-ec4cb1da0614>:18: FutureWarning: `torch.cuda.amp.autocast(args...)` is deprecated. Please use `torch.amp.autocast('cuda', args...)` instead.\n",
      "  with autocast():\n",
      "Época 7:   8%|▊         | 4/48 [00:01<00:13,  3.30it/s, pérdida_lote=0.18]<ipython-input-26-ec4cb1da0614>:18: FutureWarning: `torch.cuda.amp.autocast(args...)` is deprecated. Please use `torch.amp.autocast('cuda', args...)` instead.\n",
      "  with autocast():\n",
      "Época 7:  15%|█▍        | 7/48 [00:02<00:12,  3.27it/s, pérdida_lote=0.316]<ipython-input-26-ec4cb1da0614>:18: FutureWarning: `torch.cuda.amp.autocast(args...)` is deprecated. Please use `torch.amp.autocast('cuda', args...)` instead.\n",
      "  with autocast():\n",
      "Época 7:  17%|█▋        | 8/48 [00:02<00:12,  3.30it/s, pérdida_lote=0.0596]<ipython-input-26-ec4cb1da0614>:18: FutureWarning: `torch.cuda.amp.autocast(args...)` is deprecated. Please use `torch.amp.autocast('cuda', args...)` instead.\n",
      "  with autocast():\n",
      "Época 7:  23%|██▎       | 11/48 [00:03<00:11,  3.26it/s, pérdida_lote=0.119]<ipython-input-26-ec4cb1da0614>:18: FutureWarning: `torch.cuda.amp.autocast(args...)` is deprecated. Please use `torch.amp.autocast('cuda', args...)` instead.\n",
      "  with autocast():\n",
      "Época 7:  35%|███▌      | 17/48 [00:05<00:09,  3.26it/s, pérdida_lote=0.134]<ipython-input-26-ec4cb1da0614>:18: FutureWarning: `torch.cuda.amp.autocast(args...)` is deprecated. Please use `torch.amp.autocast('cuda', args...)` instead.\n",
      "  with autocast():\n",
      "Época 7:  38%|███▊      | 18/48 [00:05<00:09,  3.28it/s, pérdida_lote=0.227]<ipython-input-26-ec4cb1da0614>:18: FutureWarning: `torch.cuda.amp.autocast(args...)` is deprecated. Please use `torch.amp.autocast('cuda', args...)` instead.\n",
      "  with autocast():\n",
      "Época 7:  44%|████▍     | 21/48 [00:06<00:08,  3.26it/s, pérdida_lote=0.0856]<ipython-input-26-ec4cb1da0614>:18: FutureWarning: `torch.cuda.amp.autocast(args...)` is deprecated. Please use `torch.amp.autocast('cuda', args...)` instead.\n",
      "  with autocast():\n",
      "Época 7:  54%|█████▍    | 26/48 [00:07<00:06,  3.19it/s, pérdida_lote=0.4]<ipython-input-26-ec4cb1da0614>:18: FutureWarning: `torch.cuda.amp.autocast(args...)` is deprecated. Please use `torch.amp.autocast('cuda', args...)` instead.\n",
      "  with autocast():\n",
      "Época 7:  58%|█████▊    | 28/48 [00:08<00:06,  3.19it/s, pérdida_lote=0.787]<ipython-input-26-ec4cb1da0614>:18: FutureWarning: `torch.cuda.amp.autocast(args...)` is deprecated. Please use `torch.amp.autocast('cuda', args...)` instead.\n",
      "  with autocast():\n",
      "Época 7:  65%|██████▍   | 31/48 [00:09<00:05,  3.17it/s, pérdida_lote=0.276]<ipython-input-26-ec4cb1da0614>:18: FutureWarning: `torch.cuda.amp.autocast(args...)` is deprecated. Please use `torch.amp.autocast('cuda', args...)` instead.\n",
      "  with autocast():\n",
      "Época 7:  75%|███████▌  | 36/48 [00:11<00:03,  3.18it/s, pérdida_lote=0.267]<ipython-input-26-ec4cb1da0614>:18: FutureWarning: `torch.cuda.amp.autocast(args...)` is deprecated. Please use `torch.amp.autocast('cuda', args...)` instead.\n",
      "  with autocast():\n",
      "Época 7:  77%|███████▋  | 37/48 [00:11<00:03,  3.20it/s, pérdida_lote=0.11]<ipython-input-26-ec4cb1da0614>:18: FutureWarning: `torch.cuda.amp.autocast(args...)` is deprecated. Please use `torch.amp.autocast('cuda', args...)` instead.\n",
      "  with autocast():\n",
      "Época 7:  83%|████████▎ | 40/48 [00:12<00:02,  3.20it/s, pérdida_lote=0.213]<ipython-input-26-ec4cb1da0614>:18: FutureWarning: `torch.cuda.amp.autocast(args...)` is deprecated. Please use `torch.amp.autocast('cuda', args...)` instead.\n",
      "  with autocast():\n",
      "Época 7:  94%|█████████▍| 45/48 [00:13<00:00,  3.14it/s, pérdida_lote=0.141]<ipython-input-26-ec4cb1da0614>:18: FutureWarning: `torch.cuda.amp.autocast(args...)` is deprecated. Please use `torch.amp.autocast('cuda', args...)` instead.\n",
      "  with autocast():\n",
      "Época 7:  98%|█████████▊| 47/48 [00:14<00:00,  3.15it/s, pérdida_lote=0.908]<ipython-input-26-ec4cb1da0614>:18: FutureWarning: `torch.cuda.amp.autocast(args...)` is deprecated. Please use `torch.amp.autocast('cuda', args...)` instead.\n",
      "  with autocast():\n"
     ]
    },
    {
     "name": "stdout",
     "output_type": "stream",
     "text": [
      "📘 Época 7 | Pérdida de entrenamiento: 0.2862 | Val RMSE: 0.5959 | Val MAE: 0.4504 | Val R²: 0.6129\n"
     ]
    },
    {
     "name": "stderr",
     "output_type": "stream",
     "text": [
      "\rÉpoca 8:   0%|          | 0/48 [00:00<?, ?it/s]<ipython-input-26-ec4cb1da0614>:18: FutureWarning: `torch.cuda.amp.autocast(args...)` is deprecated. Please use `torch.amp.autocast('cuda', args...)` instead.\n",
      "  with autocast():\n",
      "Época 8:   6%|▋         | 3/48 [00:00<00:14,  3.19it/s, pérdida_lote=0.153]<ipython-input-26-ec4cb1da0614>:18: FutureWarning: `torch.cuda.amp.autocast(args...)` is deprecated. Please use `torch.amp.autocast('cuda', args...)` instead.\n",
      "  with autocast():\n",
      "Época 8:  17%|█▋        | 8/48 [00:02<00:11,  3.36it/s, pérdida_lote=0.219]<ipython-input-26-ec4cb1da0614>:18: FutureWarning: `torch.cuda.amp.autocast(args...)` is deprecated. Please use `torch.amp.autocast('cuda', args...)` instead.\n",
      "  with autocast():\n",
      "Época 8:  25%|██▌       | 12/48 [00:03<00:10,  3.40it/s, pérdida_lote=0.227]<ipython-input-26-ec4cb1da0614>:18: FutureWarning: `torch.cuda.amp.autocast(args...)` is deprecated. Please use `torch.amp.autocast('cuda', args...)` instead.\n",
      "  with autocast():\n",
      "Época 8:  27%|██▋       | 13/48 [00:03<00:10,  3.42it/s, pérdida_lote=0.453]<ipython-input-26-ec4cb1da0614>:18: FutureWarning: `torch.cuda.amp.autocast(args...)` is deprecated. Please use `torch.amp.autocast('cuda', args...)` instead.\n",
      "  with autocast():\n",
      "Época 8:  38%|███▊      | 18/48 [00:05<00:08,  3.36it/s, pérdida_lote=0.303]<ipython-input-26-ec4cb1da0614>:18: FutureWarning: `torch.cuda.amp.autocast(args...)` is deprecated. Please use `torch.amp.autocast('cuda', args...)` instead.\n",
      "  with autocast():\n",
      "Época 8:  42%|████▏     | 20/48 [00:05<00:08,  3.37it/s, pérdida_lote=0.188]<ipython-input-26-ec4cb1da0614>:18: FutureWarning: `torch.cuda.amp.autocast(args...)` is deprecated. Please use `torch.amp.autocast('cuda', args...)` instead.\n",
      "  with autocast():\n",
      "Época 8:  48%|████▊     | 23/48 [00:06<00:07,  3.40it/s, pérdida_lote=0.145]<ipython-input-26-ec4cb1da0614>:18: FutureWarning: `torch.cuda.amp.autocast(args...)` is deprecated. Please use `torch.amp.autocast('cuda', args...)` instead.\n",
      "  with autocast():\n",
      "Época 8:  60%|██████    | 29/48 [00:08<00:05,  3.39it/s, pérdida_lote=0.0823]<ipython-input-26-ec4cb1da0614>:18: FutureWarning: `torch.cuda.amp.autocast(args...)` is deprecated. Please use `torch.amp.autocast('cuda', args...)` instead.\n",
      "  with autocast():\n",
      "Época 8:  67%|██████▋   | 32/48 [00:09<00:04,  3.36it/s, pérdida_lote=0.388]<ipython-input-26-ec4cb1da0614>:18: FutureWarning: `torch.cuda.amp.autocast(args...)` is deprecated. Please use `torch.amp.autocast('cuda', args...)` instead.\n",
      "  with autocast():\n",
      "Época 8:  69%|██████▉   | 33/48 [00:09<00:04,  3.33it/s, pérdida_lote=0.314]<ipython-input-26-ec4cb1da0614>:18: FutureWarning: `torch.cuda.amp.autocast(args...)` is deprecated. Please use `torch.amp.autocast('cuda', args...)` instead.\n",
      "  with autocast():\n",
      "Época 8:  77%|███████▋  | 37/48 [00:11<00:03,  3.37it/s, pérdida_lote=0.16]<ipython-input-26-ec4cb1da0614>:18: FutureWarning: `torch.cuda.amp.autocast(args...)` is deprecated. Please use `torch.amp.autocast('cuda', args...)` instead.\n",
      "  with autocast():\n",
      "Época 8:  83%|████████▎ | 40/48 [00:11<00:02,  3.28it/s, pérdida_lote=0.107]<ipython-input-26-ec4cb1da0614>:18: FutureWarning: `torch.cuda.amp.autocast(args...)` is deprecated. Please use `torch.amp.autocast('cuda', args...)` instead.\n",
      "  with autocast():\n",
      "Época 8:  90%|████████▉ | 43/48 [00:12<00:01,  3.21it/s, pérdida_lote=0.312]<ipython-input-26-ec4cb1da0614>:18: FutureWarning: `torch.cuda.amp.autocast(args...)` is deprecated. Please use `torch.amp.autocast('cuda', args...)` instead.\n",
      "  with autocast():\n"
     ]
    },
    {
     "name": "stdout",
     "output_type": "stream",
     "text": [
      "📘 Época 8 | Pérdida de entrenamiento: 0.2476 | Val RMSE: 0.6142 | Val MAE: 0.4766 | Val R²: 0.5888\n"
     ]
    },
    {
     "name": "stderr",
     "output_type": "stream",
     "text": [
      "\rÉpoca 9:   0%|          | 0/48 [00:00<?, ?it/s]<ipython-input-26-ec4cb1da0614>:18: FutureWarning: `torch.cuda.amp.autocast(args...)` is deprecated. Please use `torch.amp.autocast('cuda', args...)` instead.\n",
      "  with autocast():\n",
      "Época 9:   8%|▊         | 4/48 [00:01<00:13,  3.23it/s, pérdida_lote=0.0817]<ipython-input-26-ec4cb1da0614>:18: FutureWarning: `torch.cuda.amp.autocast(args...)` is deprecated. Please use `torch.amp.autocast('cuda', args...)` instead.\n",
      "  with autocast():\n",
      "Época 9:  12%|█▎        | 6/48 [00:01<00:12,  3.31it/s, pérdida_lote=0.523]<ipython-input-26-ec4cb1da0614>:18: FutureWarning: `torch.cuda.amp.autocast(args...)` is deprecated. Please use `torch.amp.autocast('cuda', args...)` instead.\n",
      "  with autocast():\n",
      "Época 9:  19%|█▉        | 9/48 [00:02<00:11,  3.31it/s, pérdida_lote=0.17]<ipython-input-26-ec4cb1da0614>:18: FutureWarning: `torch.cuda.amp.autocast(args...)` is deprecated. Please use `torch.amp.autocast('cuda', args...)` instead.\n",
      "  with autocast():\n",
      "Época 9:  29%|██▉       | 14/48 [00:04<00:10,  3.31it/s, pérdida_lote=0.147]<ipython-input-26-ec4cb1da0614>:18: FutureWarning: `torch.cuda.amp.autocast(args...)` is deprecated. Please use `torch.amp.autocast('cuda', args...)` instead.\n",
      "  with autocast():\n",
      "Época 9:  35%|███▌      | 17/48 [00:05<00:09,  3.23it/s, pérdida_lote=0.132]<ipython-input-26-ec4cb1da0614>:18: FutureWarning: `torch.cuda.amp.autocast(args...)` is deprecated. Please use `torch.amp.autocast('cuda', args...)` instead.\n",
      "  with autocast():\n",
      "Época 9:  40%|███▉      | 19/48 [00:05<00:08,  3.23it/s, pérdida_lote=0.0529]<ipython-input-26-ec4cb1da0614>:18: FutureWarning: `torch.cuda.amp.autocast(args...)` is deprecated. Please use `torch.amp.autocast('cuda', args...)` instead.\n",
      "  with autocast():\n",
      "Época 9:  46%|████▌     | 22/48 [00:06<00:08,  3.23it/s, pérdida_lote=0.259]<ipython-input-26-ec4cb1da0614>:18: FutureWarning: `torch.cuda.amp.autocast(args...)` is deprecated. Please use `torch.amp.autocast('cuda', args...)` instead.\n",
      "  with autocast():\n",
      "Época 9:  52%|█████▏    | 25/48 [00:07<00:07,  3.24it/s, pérdida_lote=0.137]<ipython-input-26-ec4cb1da0614>:18: FutureWarning: `torch.cuda.amp.autocast(args...)` is deprecated. Please use `torch.amp.autocast('cuda', args...)` instead.\n",
      "  with autocast():\n",
      "Época 9:  58%|█████▊    | 28/48 [00:08<00:06,  3.25it/s, pérdida_lote=0.0424]<ipython-input-26-ec4cb1da0614>:18: FutureWarning: `torch.cuda.amp.autocast(args...)` is deprecated. Please use `torch.amp.autocast('cuda', args...)` instead.\n",
      "  with autocast():\n",
      "Época 9:  65%|██████▍   | 31/48 [00:09<00:05,  3.29it/s, pérdida_lote=0.446]<ipython-input-26-ec4cb1da0614>:18: FutureWarning: `torch.cuda.amp.autocast(args...)` is deprecated. Please use `torch.amp.autocast('cuda', args...)` instead.\n",
      "  with autocast():\n",
      "Época 9:  77%|███████▋  | 37/48 [00:11<00:03,  3.29it/s, pérdida_lote=0.368]<ipython-input-26-ec4cb1da0614>:18: FutureWarning: `torch.cuda.amp.autocast(args...)` is deprecated. Please use `torch.amp.autocast('cuda', args...)` instead.\n",
      "  with autocast():\n",
      "Época 9:  79%|███████▉  | 38/48 [00:11<00:03,  3.27it/s, pérdida_lote=0.527]<ipython-input-26-ec4cb1da0614>:18: FutureWarning: `torch.cuda.amp.autocast(args...)` is deprecated. Please use `torch.amp.autocast('cuda', args...)` instead.\n",
      "  with autocast():\n",
      "Época 9:  85%|████████▌ | 41/48 [00:12<00:02,  3.27it/s, pérdida_lote=0.133]<ipython-input-26-ec4cb1da0614>:18: FutureWarning: `torch.cuda.amp.autocast(args...)` is deprecated. Please use `torch.amp.autocast('cuda', args...)` instead.\n",
      "  with autocast():\n",
      "Época 9:  98%|█████████▊| 47/48 [00:14<00:00,  3.24it/s, pérdida_lote=0.379]<ipython-input-26-ec4cb1da0614>:18: FutureWarning: `torch.cuda.amp.autocast(args...)` is deprecated. Please use `torch.amp.autocast('cuda', args...)` instead.\n",
      "  with autocast():\n"
     ]
    },
    {
     "name": "stdout",
     "output_type": "stream",
     "text": [
      "📘 Época 9 | Pérdida de entrenamiento: 0.2440 | Val RMSE: 0.5486 | Val MAE: 0.4119 | Val R²: 0.6720\n"
     ]
    },
    {
     "name": "stderr",
     "output_type": "stream",
     "text": [
      "\rÉpoca 10:   0%|          | 0/48 [00:00<?, ?it/s]<ipython-input-26-ec4cb1da0614>:18: FutureWarning: `torch.cuda.amp.autocast(args...)` is deprecated. Please use `torch.amp.autocast('cuda', args...)` instead.\n",
      "  with autocast():\n",
      "Época 10:  10%|█         | 5/48 [00:01<00:12,  3.40it/s, pérdida_lote=0.0909]<ipython-input-26-ec4cb1da0614>:18: FutureWarning: `torch.cuda.amp.autocast(args...)` is deprecated. Please use `torch.amp.autocast('cuda', args...)` instead.\n",
      "  with autocast():\n",
      "Época 10:  15%|█▍        | 7/48 [00:02<00:11,  3.46it/s, pérdida_lote=0.116]<ipython-input-26-ec4cb1da0614>:18: FutureWarning: `torch.cuda.amp.autocast(args...)` is deprecated. Please use `torch.amp.autocast('cuda', args...)` instead.\n",
      "  with autocast():\n",
      "Época 10:  21%|██        | 10/48 [00:02<00:11,  3.43it/s, pérdida_lote=0.279]<ipython-input-26-ec4cb1da0614>:18: FutureWarning: `torch.cuda.amp.autocast(args...)` is deprecated. Please use `torch.amp.autocast('cuda', args...)` instead.\n",
      "  with autocast():\n",
      "Época 10:  33%|███▎      | 16/48 [00:04<00:09,  3.39it/s, pérdida_lote=0.0546]<ipython-input-26-ec4cb1da0614>:18: FutureWarning: `torch.cuda.amp.autocast(args...)` is deprecated. Please use `torch.amp.autocast('cuda', args...)` instead.\n",
      "  with autocast():\n",
      "Época 10:  35%|███▌      | 17/48 [00:04<00:09,  3.39it/s, pérdida_lote=0.125]<ipython-input-26-ec4cb1da0614>:18: FutureWarning: `torch.cuda.amp.autocast(args...)` is deprecated. Please use `torch.amp.autocast('cuda', args...)` instead.\n",
      "  with autocast():\n",
      "Época 10:  42%|████▏     | 20/48 [00:05<00:08,  3.39it/s, pérdida_lote=0.276]<ipython-input-26-ec4cb1da0614>:18: FutureWarning: `torch.cuda.amp.autocast(args...)` is deprecated. Please use `torch.amp.autocast('cuda', args...)` instead.\n",
      "  with autocast():\n",
      "Época 10:  50%|█████     | 24/48 [00:07<00:07,  3.43it/s, pérdida_lote=0.103]<ipython-input-26-ec4cb1da0614>:18: FutureWarning: `torch.cuda.amp.autocast(args...)` is deprecated. Please use `torch.amp.autocast('cuda', args...)` instead.\n",
      "  with autocast():\n",
      "Época 10:  56%|█████▋    | 27/48 [00:07<00:06,  3.44it/s, pérdida_lote=0.191]<ipython-input-26-ec4cb1da0614>:18: FutureWarning: `torch.cuda.amp.autocast(args...)` is deprecated. Please use `torch.amp.autocast('cuda', args...)` instead.\n",
      "  with autocast():\n",
      "Época 10:  65%|██████▍   | 31/48 [00:09<00:04,  3.40it/s, pérdida_lote=0.199]<ipython-input-26-ec4cb1da0614>:18: FutureWarning: `torch.cuda.amp.autocast(args...)` is deprecated. Please use `torch.amp.autocast('cuda', args...)` instead.\n",
      "  with autocast():\n",
      "Época 10:  75%|███████▌  | 36/48 [00:10<00:03,  3.42it/s, pérdida_lote=0.226]<ipython-input-26-ec4cb1da0614>:18: FutureWarning: `torch.cuda.amp.autocast(args...)` is deprecated. Please use `torch.amp.autocast('cuda', args...)` instead.\n",
      "  with autocast():\n",
      "Época 10:  83%|████████▎ | 40/48 [00:11<00:02,  3.42it/s, pérdida_lote=0.0364]<ipython-input-26-ec4cb1da0614>:18: FutureWarning: `torch.cuda.amp.autocast(args...)` is deprecated. Please use `torch.amp.autocast('cuda', args...)` instead.\n",
      "  with autocast():\n",
      "Época 10:  85%|████████▌ | 41/48 [00:11<00:02,  3.42it/s, pérdida_lote=0.0665]<ipython-input-26-ec4cb1da0614>:18: FutureWarning: `torch.cuda.amp.autocast(args...)` is deprecated. Please use `torch.amp.autocast('cuda', args...)` instead.\n",
      "  with autocast():\n",
      "Época 10:  92%|█████████▏| 44/48 [00:12<00:01,  3.36it/s, pérdida_lote=0.103]<ipython-input-26-ec4cb1da0614>:18: FutureWarning: `torch.cuda.amp.autocast(args...)` is deprecated. Please use `torch.amp.autocast('cuda', args...)` instead.\n",
      "  with autocast():\n"
     ]
    },
    {
     "name": "stdout",
     "output_type": "stream",
     "text": [
      "📘 Época 10 | Pérdida de entrenamiento: 0.2041 | Val RMSE: 0.6510 | Val MAE: 0.4834 | Val R²: 0.5380\n"
     ]
    },
    {
     "name": "stderr",
     "output_type": "stream",
     "text": [
      "\rÉpoca 11:   0%|          | 0/48 [00:00<?, ?it/s]<ipython-input-26-ec4cb1da0614>:18: FutureWarning: `torch.cuda.amp.autocast(args...)` is deprecated. Please use `torch.amp.autocast('cuda', args...)` instead.\n",
      "  with autocast():\n",
      "Época 11:   6%|▋         | 3/48 [00:00<00:13,  3.24it/s, pérdida_lote=0.157]<ipython-input-26-ec4cb1da0614>:18: FutureWarning: `torch.cuda.amp.autocast(args...)` is deprecated. Please use `torch.amp.autocast('cuda', args...)` instead.\n",
      "  with autocast():\n",
      "Época 11:   8%|▊         | 4/48 [00:01<00:13,  3.27it/s, pérdida_lote=0.186]<ipython-input-26-ec4cb1da0614>:18: FutureWarning: `torch.cuda.amp.autocast(args...)` is deprecated. Please use `torch.amp.autocast('cuda', args...)` instead.\n",
      "  with autocast():\n",
      "Época 11:  15%|█▍        | 7/48 [00:02<00:12,  3.36it/s, pérdida_lote=0.302]<ipython-input-26-ec4cb1da0614>:18: FutureWarning: `torch.cuda.amp.autocast(args...)` is deprecated. Please use `torch.amp.autocast('cuda', args...)` instead.\n",
      "  with autocast():\n",
      "Época 11:  27%|██▋       | 13/48 [00:03<00:10,  3.36it/s, pérdida_lote=0.293]<ipython-input-26-ec4cb1da0614>:18: FutureWarning: `torch.cuda.amp.autocast(args...)` is deprecated. Please use `torch.amp.autocast('cuda', args...)` instead.\n",
      "  with autocast():\n",
      "Época 11:  29%|██▉       | 14/48 [00:04<00:10,  3.36it/s, pérdida_lote=0.0912]<ipython-input-26-ec4cb1da0614>:18: FutureWarning: `torch.cuda.amp.autocast(args...)` is deprecated. Please use `torch.amp.autocast('cuda', args...)` instead.\n",
      "  with autocast():\n",
      "Época 11:  35%|███▌      | 17/48 [00:05<00:09,  3.35it/s, pérdida_lote=0.193]<ipython-input-26-ec4cb1da0614>:18: FutureWarning: `torch.cuda.amp.autocast(args...)` is deprecated. Please use `torch.amp.autocast('cuda', args...)` instead.\n",
      "  with autocast():\n",
      "Época 11:  48%|████▊     | 23/48 [00:06<00:07,  3.28it/s, pérdida_lote=0.162]<ipython-input-26-ec4cb1da0614>:18: FutureWarning: `torch.cuda.amp.autocast(args...)` is deprecated. Please use `torch.amp.autocast('cuda', args...)` instead.\n",
      "  with autocast():\n",
      "Época 11:  50%|█████     | 24/48 [00:07<00:07,  3.28it/s, pérdida_lote=0.205]<ipython-input-26-ec4cb1da0614>:18: FutureWarning: `torch.cuda.amp.autocast(args...)` is deprecated. Please use `torch.amp.autocast('cuda', args...)` instead.\n",
      "  with autocast():\n",
      "Época 11:  56%|█████▋    | 27/48 [00:08<00:06,  3.27it/s, pérdida_lote=0.198]<ipython-input-26-ec4cb1da0614>:18: FutureWarning: `torch.cuda.amp.autocast(args...)` is deprecated. Please use `torch.amp.autocast('cuda', args...)` instead.\n",
      "  with autocast():\n",
      "Época 11:  62%|██████▎   | 30/48 [00:09<00:05,  3.30it/s, pérdida_lote=0.161]<ipython-input-26-ec4cb1da0614>:18: FutureWarning: `torch.cuda.amp.autocast(args...)` is deprecated. Please use `torch.amp.autocast('cuda', args...)` instead.\n",
      "  with autocast():\n",
      "Época 11:  71%|███████   | 34/48 [00:10<00:04,  3.30it/s, pérdida_lote=0.056]<ipython-input-26-ec4cb1da0614>:18: FutureWarning: `torch.cuda.amp.autocast(args...)` is deprecated. Please use `torch.amp.autocast('cuda', args...)` instead.\n",
      "  with autocast():\n",
      "Época 11:  77%|███████▋  | 37/48 [00:11<00:03,  3.29it/s, pérdida_lote=0.218]<ipython-input-26-ec4cb1da0614>:18: FutureWarning: `torch.cuda.amp.autocast(args...)` is deprecated. Please use `torch.amp.autocast('cuda', args...)` instead.\n",
      "  with autocast():\n",
      "Época 11:  88%|████████▊ | 42/48 [00:12<00:01,  3.23it/s, pérdida_lote=0.271]<ipython-input-26-ec4cb1da0614>:18: FutureWarning: `torch.cuda.amp.autocast(args...)` is deprecated. Please use `torch.amp.autocast('cuda', args...)` instead.\n",
      "  with autocast():\n",
      "Época 11:  94%|█████████▍| 45/48 [00:13<00:00,  3.19it/s, pérdida_lote=0.133]<ipython-input-26-ec4cb1da0614>:18: FutureWarning: `torch.cuda.amp.autocast(args...)` is deprecated. Please use `torch.amp.autocast('cuda', args...)` instead.\n",
      "  with autocast():\n",
      "Época 11:  98%|█████████▊| 47/48 [00:14<00:00,  3.22it/s, pérdida_lote=0.28]<ipython-input-26-ec4cb1da0614>:18: FutureWarning: `torch.cuda.amp.autocast(args...)` is deprecated. Please use `torch.amp.autocast('cuda', args...)` instead.\n",
      "  with autocast():\n"
     ]
    },
    {
     "name": "stdout",
     "output_type": "stream",
     "text": [
      "📘 Época 11 | Pérdida de entrenamiento: 0.1849 | Val RMSE: 0.5706 | Val MAE: 0.4393 | Val R²: 0.6451\n"
     ]
    },
    {
     "name": "stderr",
     "output_type": "stream",
     "text": [
      "\rÉpoca 12:   0%|          | 0/48 [00:00<?, ?it/s]<ipython-input-26-ec4cb1da0614>:18: FutureWarning: `torch.cuda.amp.autocast(args...)` is deprecated. Please use `torch.amp.autocast('cuda', args...)` instead.\n",
      "  with autocast():\n",
      "Época 12:   2%|▏         | 1/48 [00:00<00:14,  3.23it/s, pérdida_lote=0.0785]<ipython-input-26-ec4cb1da0614>:18: FutureWarning: `torch.cuda.amp.autocast(args...)` is deprecated. Please use `torch.amp.autocast('cuda', args...)` instead.\n",
      "  with autocast():\n",
      "Época 12:   8%|▊         | 4/48 [00:01<00:14,  3.12it/s, pérdida_lote=0.214]<ipython-input-26-ec4cb1da0614>:18: FutureWarning: `torch.cuda.amp.autocast(args...)` is deprecated. Please use `torch.amp.autocast('cuda', args...)` instead.\n",
      "  with autocast():\n",
      "Época 12:  19%|█▉        | 9/48 [00:02<00:12,  3.12it/s, pérdida_lote=0.16]<ipython-input-26-ec4cb1da0614>:18: FutureWarning: `torch.cuda.amp.autocast(args...)` is deprecated. Please use `torch.amp.autocast('cuda', args...)` instead.\n",
      "  with autocast():\n",
      "Época 12:  21%|██        | 10/48 [00:03<00:12,  3.11it/s, pérdida_lote=0.105]<ipython-input-26-ec4cb1da0614>:18: FutureWarning: `torch.cuda.amp.autocast(args...)` is deprecated. Please use `torch.amp.autocast('cuda', args...)` instead.\n",
      "  with autocast():\n",
      "Época 12:  31%|███▏      | 15/48 [00:04<00:10,  3.06it/s, pérdida_lote=0.129]<ipython-input-26-ec4cb1da0614>:18: FutureWarning: `torch.cuda.amp.autocast(args...)` is deprecated. Please use `torch.amp.autocast('cuda', args...)` instead.\n",
      "  with autocast():\n",
      "Época 12:  38%|███▊      | 18/48 [00:05<00:09,  3.08it/s, pérdida_lote=0.349]<ipython-input-26-ec4cb1da0614>:18: FutureWarning: `torch.cuda.amp.autocast(args...)` is deprecated. Please use `torch.amp.autocast('cuda', args...)` instead.\n",
      "  with autocast():\n",
      "Época 12:  40%|███▉      | 19/48 [00:06<00:09,  3.07it/s, pérdida_lote=0.208]<ipython-input-26-ec4cb1da0614>:18: FutureWarning: `torch.cuda.amp.autocast(args...)` is deprecated. Please use `torch.amp.autocast('cuda', args...)` instead.\n",
      "  with autocast():\n",
      "Época 12:  46%|████▌     | 22/48 [00:07<00:08,  3.08it/s, pérdida_lote=0.0468]<ipython-input-26-ec4cb1da0614>:18: FutureWarning: `torch.cuda.amp.autocast(args...)` is deprecated. Please use `torch.amp.autocast('cuda', args...)` instead.\n",
      "  with autocast():\n",
      "Época 12:  56%|█████▋    | 27/48 [00:08<00:06,  3.09it/s, pérdida_lote=0.204]<ipython-input-26-ec4cb1da0614>:18: FutureWarning: `torch.cuda.amp.autocast(args...)` is deprecated. Please use `torch.amp.autocast('cuda', args...)` instead.\n",
      "  with autocast():\n",
      "Época 12:  58%|█████▊    | 28/48 [00:09<00:06,  3.02it/s, pérdida_lote=0.108]<ipython-input-26-ec4cb1da0614>:18: FutureWarning: `torch.cuda.amp.autocast(args...)` is deprecated. Please use `torch.amp.autocast('cuda', args...)` instead.\n",
      "  with autocast():\n",
      "Época 12:  71%|███████   | 34/48 [00:11<00:04,  3.01it/s, pérdida_lote=0.137]<ipython-input-26-ec4cb1da0614>:18: FutureWarning: `torch.cuda.amp.autocast(args...)` is deprecated. Please use `torch.amp.autocast('cuda', args...)` instead.\n",
      "  with autocast():\n",
      "Época 12:  75%|███████▌  | 36/48 [00:11<00:04,  2.98it/s, pérdida_lote=0.068]<ipython-input-26-ec4cb1da0614>:18: FutureWarning: `torch.cuda.amp.autocast(args...)` is deprecated. Please use `torch.amp.autocast('cuda', args...)` instead.\n",
      "  with autocast():\n",
      "Época 12:  81%|████████▏ | 39/48 [00:12<00:03,  2.97it/s, pérdida_lote=0.183]<ipython-input-26-ec4cb1da0614>:18: FutureWarning: `torch.cuda.amp.autocast(args...)` is deprecated. Please use `torch.amp.autocast('cuda', args...)` instead.\n",
      "  with autocast():\n",
      "Época 12:  85%|████████▌ | 41/48 [00:13<00:02,  3.00it/s, pérdida_lote=0.128]<ipython-input-26-ec4cb1da0614>:18: FutureWarning: `torch.cuda.amp.autocast(args...)` is deprecated. Please use `torch.amp.autocast('cuda', args...)` instead.\n",
      "  with autocast():\n",
      "Época 12:  90%|████████▉ | 43/48 [00:14<00:01,  2.99it/s, pérdida_lote=0.217]<ipython-input-26-ec4cb1da0614>:18: FutureWarning: `torch.cuda.amp.autocast(args...)` is deprecated. Please use `torch.amp.autocast('cuda', args...)` instead.\n",
      "  with autocast():\n",
      "Época 12:  96%|█████████▌| 46/48 [00:15<00:00,  2.97it/s, pérdida_lote=0.0969]<ipython-input-26-ec4cb1da0614>:18: FutureWarning: `torch.cuda.amp.autocast(args...)` is deprecated. Please use `torch.amp.autocast('cuda', args...)` instead.\n",
      "  with autocast():\n"
     ]
    },
    {
     "name": "stdout",
     "output_type": "stream",
     "text": [
      "📘 Época 12 | Pérdida de entrenamiento: 0.1576 | Val RMSE: 0.6346 | Val MAE: 0.4586 | Val R²: 0.5610\n"
     ]
    },
    {
     "name": "stderr",
     "output_type": "stream",
     "text": [
      "\rÉpoca 13:   0%|          | 0/48 [00:00<?, ?it/s]<ipython-input-26-ec4cb1da0614>:18: FutureWarning: `torch.cuda.amp.autocast(args...)` is deprecated. Please use `torch.amp.autocast('cuda', args...)` instead.\n",
      "  with autocast():\n",
      "Época 13:  10%|█         | 5/48 [00:01<00:13,  3.14it/s, pérdida_lote=0.203]<ipython-input-26-ec4cb1da0614>:18: FutureWarning: `torch.cuda.amp.autocast(args...)` is deprecated. Please use `torch.amp.autocast('cuda', args...)` instead.\n",
      "  with autocast():\n",
      "Época 13:  17%|█▋        | 8/48 [00:02<00:12,  3.14it/s, pérdida_lote=0.133]<ipython-input-26-ec4cb1da0614>:18: FutureWarning: `torch.cuda.amp.autocast(args...)` is deprecated. Please use `torch.amp.autocast('cuda', args...)` instead.\n",
      "  with autocast():\n",
      "Época 13:  19%|█▉        | 9/48 [00:02<00:12,  3.14it/s, pérdida_lote=0.107]<ipython-input-26-ec4cb1da0614>:18: FutureWarning: `torch.cuda.amp.autocast(args...)` is deprecated. Please use `torch.amp.autocast('cuda', args...)` instead.\n",
      "  with autocast():\n",
      "Época 13:  25%|██▌       | 12/48 [00:03<00:11,  3.11it/s, pérdida_lote=0.135]<ipython-input-26-ec4cb1da0614>:18: FutureWarning: `torch.cuda.amp.autocast(args...)` is deprecated. Please use `torch.amp.autocast('cuda', args...)` instead.\n",
      "  with autocast():\n",
      "Época 13:  35%|███▌      | 17/48 [00:05<00:10,  3.08it/s, pérdida_lote=0.139]<ipython-input-26-ec4cb1da0614>:18: FutureWarning: `torch.cuda.amp.autocast(args...)` is deprecated. Please use `torch.amp.autocast('cuda', args...)` instead.\n",
      "  with autocast():\n",
      "Época 13:  44%|████▍     | 21/48 [00:06<00:08,  3.15it/s, pérdida_lote=0.0957]<ipython-input-26-ec4cb1da0614>:18: FutureWarning: `torch.cuda.amp.autocast(args...)` is deprecated. Please use `torch.amp.autocast('cuda', args...)` instead.\n",
      "  with autocast():\n",
      "Época 13:  46%|████▌     | 22/48 [00:07<00:08,  3.16it/s, pérdida_lote=0.0564]<ipython-input-26-ec4cb1da0614>:18: FutureWarning: `torch.cuda.amp.autocast(args...)` is deprecated. Please use `torch.amp.autocast('cuda', args...)` instead.\n",
      "  with autocast():\n",
      "Época 13:  52%|█████▏    | 25/48 [00:07<00:07,  3.17it/s, pérdida_lote=0.057]<ipython-input-26-ec4cb1da0614>:18: FutureWarning: `torch.cuda.amp.autocast(args...)` is deprecated. Please use `torch.amp.autocast('cuda', args...)` instead.\n",
      "  with autocast():\n",
      "Época 13:  62%|██████▎   | 30/48 [00:09<00:05,  3.23it/s, pérdida_lote=0.314]<ipython-input-26-ec4cb1da0614>:18: FutureWarning: `torch.cuda.amp.autocast(args...)` is deprecated. Please use `torch.amp.autocast('cuda', args...)` instead.\n",
      "  with autocast():\n",
      "Época 13:  69%|██████▉   | 33/48 [00:10<00:04,  3.21it/s, pérdida_lote=0.0881]<ipython-input-26-ec4cb1da0614>:18: FutureWarning: `torch.cuda.amp.autocast(args...)` is deprecated. Please use `torch.amp.autocast('cuda', args...)` instead.\n",
      "  with autocast():\n",
      "Época 13:  73%|███████▎  | 35/48 [00:11<00:04,  3.20it/s, pérdida_lote=0.245]<ipython-input-26-ec4cb1da0614>:18: FutureWarning: `torch.cuda.amp.autocast(args...)` is deprecated. Please use `torch.amp.autocast('cuda', args...)` instead.\n",
      "  with autocast():\n",
      "Época 13:  79%|███████▉  | 38/48 [00:12<00:03,  3.23it/s, pérdida_lote=0.0857]<ipython-input-26-ec4cb1da0614>:18: FutureWarning: `torch.cuda.amp.autocast(args...)` is deprecated. Please use `torch.amp.autocast('cuda', args...)` instead.\n",
      "  with autocast():\n",
      "Época 13:  85%|████████▌ | 41/48 [00:12<00:02,  3.25it/s, pérdida_lote=0.0636]<ipython-input-26-ec4cb1da0614>:18: FutureWarning: `torch.cuda.amp.autocast(args...)` is deprecated. Please use `torch.amp.autocast('cuda', args...)` instead.\n",
      "  with autocast():\n",
      "Época 13:  96%|█████████▌| 46/48 [00:14<00:00,  3.24it/s, pérdida_lote=0.0993]<ipython-input-26-ec4cb1da0614>:18: FutureWarning: `torch.cuda.amp.autocast(args...)` is deprecated. Please use `torch.amp.autocast('cuda', args...)` instead.\n",
      "  with autocast():\n"
     ]
    },
    {
     "name": "stdout",
     "output_type": "stream",
     "text": [
      "📘 Época 13 | Pérdida de entrenamiento: 0.1404 | Val RMSE: 0.5947 | Val MAE: 0.4862 | Val R²: 0.6145\n"
     ]
    },
    {
     "name": "stderr",
     "output_type": "stream",
     "text": [
      "\rÉpoca 14:   0%|          | 0/48 [00:00<?, ?it/s]<ipython-input-26-ec4cb1da0614>:18: FutureWarning: `torch.cuda.amp.autocast(args...)` is deprecated. Please use `torch.amp.autocast('cuda', args...)` instead.\n",
      "  with autocast():\n",
      "Época 14:   4%|▍         | 2/48 [00:00<00:13,  3.33it/s, pérdida_lote=0.0268]<ipython-input-26-ec4cb1da0614>:18: FutureWarning: `torch.cuda.amp.autocast(args...)` is deprecated. Please use `torch.amp.autocast('cuda', args...)` instead.\n",
      "  with autocast():\n",
      "Época 14:  10%|█         | 5/48 [00:01<00:13,  3.29it/s, pérdida_lote=0.231]<ipython-input-26-ec4cb1da0614>:18: FutureWarning: `torch.cuda.amp.autocast(args...)` is deprecated. Please use `torch.amp.autocast('cuda', args...)` instead.\n",
      "  with autocast():\n",
      "Época 14:  19%|█▉        | 9/48 [00:02<00:11,  3.31it/s, pérdida_lote=0.154]<ipython-input-26-ec4cb1da0614>:18: FutureWarning: `torch.cuda.amp.autocast(args...)` is deprecated. Please use `torch.amp.autocast('cuda', args...)` instead.\n",
      "  with autocast():\n",
      "Época 14:  29%|██▉       | 14/48 [00:04<00:10,  3.30it/s, pérdida_lote=0.0301]<ipython-input-26-ec4cb1da0614>:18: FutureWarning: `torch.cuda.amp.autocast(args...)` is deprecated. Please use `torch.amp.autocast('cuda', args...)` instead.\n",
      "  with autocast():\n",
      "Época 14:  31%|███▏      | 15/48 [00:04<00:10,  3.30it/s, pérdida_lote=0.0539]<ipython-input-26-ec4cb1da0614>:18: FutureWarning: `torch.cuda.amp.autocast(args...)` is deprecated. Please use `torch.amp.autocast('cuda', args...)` instead.\n",
      "  with autocast():\n",
      "Época 14:  44%|████▍     | 21/48 [00:06<00:08,  3.29it/s, pérdida_lote=0.105]<ipython-input-26-ec4cb1da0614>:18: FutureWarning: `torch.cuda.amp.autocast(args...)` is deprecated. Please use `torch.amp.autocast('cuda', args...)` instead.\n",
      "  with autocast():\n",
      "Época 14:  46%|████▌     | 22/48 [00:06<00:07,  3.29it/s, pérdida_lote=0.0608]<ipython-input-26-ec4cb1da0614>:18: FutureWarning: `torch.cuda.amp.autocast(args...)` is deprecated. Please use `torch.amp.autocast('cuda', args...)` instead.\n",
      "  with autocast():\n",
      "Época 14:  52%|█████▏    | 25/48 [00:07<00:06,  3.30it/s, pérdida_lote=0.156]<ipython-input-26-ec4cb1da0614>:18: FutureWarning: `torch.cuda.amp.autocast(args...)` is deprecated. Please use `torch.amp.autocast('cuda', args...)` instead.\n",
      "  with autocast():\n",
      "Época 14:  65%|██████▍   | 31/48 [00:09<00:05,  3.27it/s, pérdida_lote=0.159]<ipython-input-26-ec4cb1da0614>:18: FutureWarning: `torch.cuda.amp.autocast(args...)` is deprecated. Please use `torch.amp.autocast('cuda', args...)` instead.\n",
      "  with autocast():\n",
      "Época 14:  71%|███████   | 34/48 [00:10<00:04,  3.16it/s, pérdida_lote=0.0868]<ipython-input-26-ec4cb1da0614>:18: FutureWarning: `torch.cuda.amp.autocast(args...)` is deprecated. Please use `torch.amp.autocast('cuda', args...)` instead.\n",
      "  with autocast():\n",
      "Época 14:  73%|███████▎  | 35/48 [00:10<00:04,  3.11it/s, pérdida_lote=0.137]<ipython-input-26-ec4cb1da0614>:18: FutureWarning: `torch.cuda.amp.autocast(args...)` is deprecated. Please use `torch.amp.autocast('cuda', args...)` instead.\n",
      "  with autocast():\n",
      "Época 14:  83%|████████▎ | 40/48 [00:12<00:02,  3.16it/s, pérdida_lote=0.0788]<ipython-input-26-ec4cb1da0614>:18: FutureWarning: `torch.cuda.amp.autocast(args...)` is deprecated. Please use `torch.amp.autocast('cuda', args...)` instead.\n",
      "  with autocast():\n",
      "Época 14:  90%|████████▉ | 43/48 [00:13<00:01,  3.11it/s, pérdida_lote=0.0396]<ipython-input-26-ec4cb1da0614>:18: FutureWarning: `torch.cuda.amp.autocast(args...)` is deprecated. Please use `torch.amp.autocast('cuda', args...)` instead.\n",
      "  with autocast():\n",
      "Época 14:  98%|█████████▊| 47/48 [00:14<00:00,  3.15it/s, pérdida_lote=0.439]<ipython-input-26-ec4cb1da0614>:18: FutureWarning: `torch.cuda.amp.autocast(args...)` is deprecated. Please use `torch.amp.autocast('cuda', args...)` instead.\n",
      "  with autocast():\n"
     ]
    },
    {
     "name": "stdout",
     "output_type": "stream",
     "text": [
      "📘 Época 14 | Pérdida de entrenamiento: 0.1353 | Val RMSE: 0.5449 | Val MAE: 0.4642 | Val R²: 0.6764\n"
     ]
    },
    {
     "name": "stderr",
     "output_type": "stream",
     "text": [
      "\rÉpoca 15:   0%|          | 0/48 [00:00<?, ?it/s]<ipython-input-26-ec4cb1da0614>:18: FutureWarning: `torch.cuda.amp.autocast(args...)` is deprecated. Please use `torch.amp.autocast('cuda', args...)` instead.\n",
      "  with autocast():\n",
      "Época 15:   6%|▋         | 3/48 [00:00<00:13,  3.31it/s, pérdida_lote=0.0504]<ipython-input-26-ec4cb1da0614>:18: FutureWarning: `torch.cuda.amp.autocast(args...)` is deprecated. Please use `torch.amp.autocast('cuda', args...)` instead.\n",
      "  with autocast():\n",
      "Época 15:  19%|█▉        | 9/48 [00:02<00:11,  3.33it/s, pérdida_lote=0.088]<ipython-input-26-ec4cb1da0614>:18: FutureWarning: `torch.cuda.amp.autocast(args...)` is deprecated. Please use `torch.amp.autocast('cuda', args...)` instead.\n",
      "  with autocast():\n",
      "Época 15:  21%|██        | 10/48 [00:03<00:11,  3.35it/s, pérdida_lote=0.0936]<ipython-input-26-ec4cb1da0614>:18: FutureWarning: `torch.cuda.amp.autocast(args...)` is deprecated. Please use `torch.amp.autocast('cuda', args...)` instead.\n",
      "  with autocast():\n",
      "Época 15:  27%|██▋       | 13/48 [00:03<00:10,  3.35it/s, pérdida_lote=0.0533]<ipython-input-26-ec4cb1da0614>:18: FutureWarning: `torch.cuda.amp.autocast(args...)` is deprecated. Please use `torch.amp.autocast('cuda', args...)` instead.\n",
      "  with autocast():\n",
      "Época 15:  40%|███▉      | 19/48 [00:05<00:08,  3.32it/s, pérdida_lote=0.0957]<ipython-input-26-ec4cb1da0614>:18: FutureWarning: `torch.cuda.amp.autocast(args...)` is deprecated. Please use `torch.amp.autocast('cuda', args...)` instead.\n",
      "  with autocast():\n",
      "Época 15:  42%|████▏     | 20/48 [00:06<00:08,  3.32it/s, pérdida_lote=0.099]<ipython-input-26-ec4cb1da0614>:18: FutureWarning: `torch.cuda.amp.autocast(args...)` is deprecated. Please use `torch.amp.autocast('cuda', args...)` instead.\n",
      "  with autocast():\n",
      "Época 15:  48%|████▊     | 23/48 [00:06<00:07,  3.30it/s, pérdida_lote=0.158]<ipython-input-26-ec4cb1da0614>:18: FutureWarning: `torch.cuda.amp.autocast(args...)` is deprecated. Please use `torch.amp.autocast('cuda', args...)` instead.\n",
      "  with autocast():\n",
      "Época 15:  60%|██████    | 29/48 [00:08<00:05,  3.25it/s, pérdida_lote=0.103]<ipython-input-26-ec4cb1da0614>:18: FutureWarning: `torch.cuda.amp.autocast(args...)` is deprecated. Please use `torch.amp.autocast('cuda', args...)` instead.\n",
      "  with autocast():\n",
      "Época 15:  67%|██████▋   | 32/48 [00:09<00:04,  3.20it/s, pérdida_lote=0.0741]<ipython-input-26-ec4cb1da0614>:18: FutureWarning: `torch.cuda.amp.autocast(args...)` is deprecated. Please use `torch.amp.autocast('cuda', args...)` instead.\n",
      "  with autocast():\n",
      "Época 15:  73%|███████▎  | 35/48 [00:10<00:04,  3.08it/s, pérdida_lote=0.0552]<ipython-input-26-ec4cb1da0614>:18: FutureWarning: `torch.cuda.amp.autocast(args...)` is deprecated. Please use `torch.amp.autocast('cuda', args...)` instead.\n",
      "  with autocast():\n",
      "Época 15:  79%|███████▉  | 38/48 [00:11<00:03,  3.12it/s, pérdida_lote=0.0803]<ipython-input-26-ec4cb1da0614>:18: FutureWarning: `torch.cuda.amp.autocast(args...)` is deprecated. Please use `torch.amp.autocast('cuda', args...)` instead.\n",
      "  with autocast():\n",
      "Época 15:  81%|████████▏ | 39/48 [00:11<00:02,  3.06it/s, pérdida_lote=0.142]<ipython-input-26-ec4cb1da0614>:18: FutureWarning: `torch.cuda.amp.autocast(args...)` is deprecated. Please use `torch.amp.autocast('cuda', args...)` instead.\n",
      "  with autocast():\n",
      "Época 15:  88%|████████▊ | 42/48 [00:12<00:01,  3.07it/s, pérdida_lote=0.23]<ipython-input-26-ec4cb1da0614>:18: FutureWarning: `torch.cuda.amp.autocast(args...)` is deprecated. Please use `torch.amp.autocast('cuda', args...)` instead.\n",
      "  with autocast():\n",
      "Época 15:  94%|█████████▍| 45/48 [00:13<00:00,  3.09it/s, pérdida_lote=0.0691]<ipython-input-26-ec4cb1da0614>:18: FutureWarning: `torch.cuda.amp.autocast(args...)` is deprecated. Please use `torch.amp.autocast('cuda', args...)` instead.\n",
      "  with autocast():\n"
     ]
    },
    {
     "name": "stdout",
     "output_type": "stream",
     "text": [
      "📘 Época 15 | Pérdida de entrenamiento: 0.0986 | Val RMSE: 0.6366 | Val MAE: 0.4503 | Val R²: 0.5583\n"
     ]
    },
    {
     "name": "stderr",
     "output_type": "stream",
     "text": [
      "\rÉpoca 16:   0%|          | 0/48 [00:00<?, ?it/s]<ipython-input-26-ec4cb1da0614>:18: FutureWarning: `torch.cuda.amp.autocast(args...)` is deprecated. Please use `torch.amp.autocast('cuda', args...)` instead.\n",
      "  with autocast():\n",
      "Época 16:  10%|█         | 5/48 [00:01<00:13,  3.11it/s, pérdida_lote=0.159]<ipython-input-26-ec4cb1da0614>:18: FutureWarning: `torch.cuda.amp.autocast(args...)` is deprecated. Please use `torch.amp.autocast('cuda', args...)` instead.\n",
      "  with autocast():\n",
      "Época 16:  17%|█▋        | 8/48 [00:02<00:12,  3.12it/s, pérdida_lote=0.207]<ipython-input-26-ec4cb1da0614>:18: FutureWarning: `torch.cuda.amp.autocast(args...)` is deprecated. Please use `torch.amp.autocast('cuda', args...)` instead.\n",
      "  with autocast():\n",
      "Época 16:  19%|█▉        | 9/48 [00:02<00:12,  3.13it/s, pérdida_lote=0.0517]<ipython-input-26-ec4cb1da0614>:18: FutureWarning: `torch.cuda.amp.autocast(args...)` is deprecated. Please use `torch.amp.autocast('cuda', args...)` instead.\n",
      "  with autocast():\n",
      "Época 16:  25%|██▌       | 12/48 [00:03<00:11,  3.14it/s, pérdida_lote=0.0524]<ipython-input-26-ec4cb1da0614>:18: FutureWarning: `torch.cuda.amp.autocast(args...)` is deprecated. Please use `torch.amp.autocast('cuda', args...)` instead.\n",
      "  with autocast():\n",
      "Época 16:  31%|███▏      | 15/48 [00:04<00:10,  3.15it/s, pérdida_lote=0.119]<ipython-input-26-ec4cb1da0614>:18: FutureWarning: `torch.cuda.amp.autocast(args...)` is deprecated. Please use `torch.amp.autocast('cuda', args...)` instead.\n",
      "  with autocast():\n",
      "Época 16:  38%|███▊      | 18/48 [00:05<00:09,  3.17it/s, pérdida_lote=0.1]<ipython-input-26-ec4cb1da0614>:18: FutureWarning: `torch.cuda.amp.autocast(args...)` is deprecated. Please use `torch.amp.autocast('cuda', args...)` instead.\n",
      "  with autocast():\n",
      "Época 16:  48%|████▊     | 23/48 [00:07<00:08,  3.11it/s, pérdida_lote=0.0942]<ipython-input-26-ec4cb1da0614>:18: FutureWarning: `torch.cuda.amp.autocast(args...)` is deprecated. Please use `torch.amp.autocast('cuda', args...)` instead.\n",
      "  with autocast():\n",
      "Época 16:  52%|█████▏    | 25/48 [00:08<00:07,  3.10it/s, pérdida_lote=0.122]<ipython-input-26-ec4cb1da0614>:18: FutureWarning: `torch.cuda.amp.autocast(args...)` is deprecated. Please use `torch.amp.autocast('cuda', args...)` instead.\n",
      "  with autocast():\n",
      "Época 16:  56%|█████▋    | 27/48 [00:08<00:06,  3.08it/s, pérdida_lote=0.0549]<ipython-input-26-ec4cb1da0614>:18: FutureWarning: `torch.cuda.amp.autocast(args...)` is deprecated. Please use `torch.amp.autocast('cuda', args...)` instead.\n",
      "  with autocast():\n",
      "Época 16:  69%|██████▉   | 33/48 [00:10<00:04,  3.10it/s, pérdida_lote=0.135]<ipython-input-26-ec4cb1da0614>:18: FutureWarning: `torch.cuda.amp.autocast(args...)` is deprecated. Please use `torch.amp.autocast('cuda', args...)` instead.\n",
      "  with autocast():\n",
      "Época 16:  75%|███████▌  | 36/48 [00:11<00:03,  3.09it/s, pérdida_lote=0.0251]<ipython-input-26-ec4cb1da0614>:18: FutureWarning: `torch.cuda.amp.autocast(args...)` is deprecated. Please use `torch.amp.autocast('cuda', args...)` instead.\n",
      "  with autocast():\n",
      "Época 16:  77%|███████▋  | 37/48 [00:11<00:03,  3.09it/s, pérdida_lote=0.065]<ipython-input-26-ec4cb1da0614>:18: FutureWarning: `torch.cuda.amp.autocast(args...)` is deprecated. Please use `torch.amp.autocast('cuda', args...)` instead.\n",
      "  with autocast():\n",
      "Época 16:  83%|████████▎ | 40/48 [00:12<00:02,  3.09it/s, pérdida_lote=0.0606]<ipython-input-26-ec4cb1da0614>:18: FutureWarning: `torch.cuda.amp.autocast(args...)` is deprecated. Please use `torch.amp.autocast('cuda', args...)` instead.\n",
      "  with autocast():\n",
      "Época 16:  94%|█████████▍| 45/48 [00:14<00:00,  3.01it/s, pérdida_lote=0.108]<ipython-input-26-ec4cb1da0614>:18: FutureWarning: `torch.cuda.amp.autocast(args...)` is deprecated. Please use `torch.amp.autocast('cuda', args...)` instead.\n",
      "  with autocast():\n"
     ]
    },
    {
     "name": "stdout",
     "output_type": "stream",
     "text": [
      "📘 Época 16 | Pérdida de entrenamiento: 0.1101 | Val RMSE: 0.6123 | Val MAE: 0.4740 | Val R²: 0.5913\n"
     ]
    },
    {
     "name": "stderr",
     "output_type": "stream",
     "text": [
      "\rÉpoca 17:   0%|          | 0/48 [00:00<?, ?it/s]<ipython-input-26-ec4cb1da0614>:18: FutureWarning: `torch.cuda.amp.autocast(args...)` is deprecated. Please use `torch.amp.autocast('cuda', args...)` instead.\n",
      "  with autocast():\n",
      "Época 17:   4%|▍         | 2/48 [00:00<00:14,  3.13it/s, pérdida_lote=0.147]<ipython-input-26-ec4cb1da0614>:18: FutureWarning: `torch.cuda.amp.autocast(args...)` is deprecated. Please use `torch.amp.autocast('cuda', args...)` instead.\n",
      "  with autocast():\n",
      "Época 17:  15%|█▍        | 7/48 [00:02<00:13,  3.02it/s, pérdida_lote=0.0475]<ipython-input-26-ec4cb1da0614>:18: FutureWarning: `torch.cuda.amp.autocast(args...)` is deprecated. Please use `torch.amp.autocast('cuda', args...)` instead.\n",
      "  with autocast():\n",
      "Época 17:  17%|█▋        | 8/48 [00:02<00:13,  3.05it/s, pérdida_lote=0.166]<ipython-input-26-ec4cb1da0614>:18: FutureWarning: `torch.cuda.amp.autocast(args...)` is deprecated. Please use `torch.amp.autocast('cuda', args...)` instead.\n",
      "  with autocast():\n",
      "Época 17:  23%|██▎       | 11/48 [00:03<00:12,  3.04it/s, pérdida_lote=0.0822]<ipython-input-26-ec4cb1da0614>:18: FutureWarning: `torch.cuda.amp.autocast(args...)` is deprecated. Please use `torch.amp.autocast('cuda', args...)` instead.\n",
      "  with autocast():\n",
      "Época 17:  33%|███▎      | 16/48 [00:05<00:10,  3.06it/s, pérdida_lote=0.0601]<ipython-input-26-ec4cb1da0614>:18: FutureWarning: `torch.cuda.amp.autocast(args...)` is deprecated. Please use `torch.amp.autocast('cuda', args...)` instead.\n",
      "  with autocast():\n",
      "Época 17:  35%|███▌      | 17/48 [00:05<00:10,  3.06it/s, pérdida_lote=0.0096]<ipython-input-26-ec4cb1da0614>:18: FutureWarning: `torch.cuda.amp.autocast(args...)` is deprecated. Please use `torch.amp.autocast('cuda', args...)` instead.\n",
      "  with autocast():\n",
      "Época 17:  46%|████▌     | 22/48 [00:07<00:08,  3.01it/s, pérdida_lote=0.124]<ipython-input-26-ec4cb1da0614>:18: FutureWarning: `torch.cuda.amp.autocast(args...)` is deprecated. Please use `torch.amp.autocast('cuda', args...)` instead.\n",
      "  with autocast():\n",
      "Época 17:  52%|█████▏    | 25/48 [00:08<00:07,  3.04it/s, pérdida_lote=0.316]<ipython-input-26-ec4cb1da0614>:18: FutureWarning: `torch.cuda.amp.autocast(args...)` is deprecated. Please use `torch.amp.autocast('cuda', args...)` instead.\n",
      "  with autocast():\n",
      "Época 17:  54%|█████▍    | 26/48 [00:08<00:07,  3.05it/s, pérdida_lote=0.101]<ipython-input-26-ec4cb1da0614>:18: FutureWarning: `torch.cuda.amp.autocast(args...)` is deprecated. Please use `torch.amp.autocast('cuda', args...)` instead.\n",
      "  with autocast():\n",
      "Época 17:  60%|██████    | 29/48 [00:09<00:06,  3.09it/s, pérdida_lote=0.0703]<ipython-input-26-ec4cb1da0614>:18: FutureWarning: `torch.cuda.amp.autocast(args...)` is deprecated. Please use `torch.amp.autocast('cuda', args...)` instead.\n",
      "  with autocast():\n",
      "Época 17:  73%|███████▎  | 35/48 [00:11<00:04,  3.13it/s, pérdida_lote=0.22]<ipython-input-26-ec4cb1da0614>:18: FutureWarning: `torch.cuda.amp.autocast(args...)` is deprecated. Please use `torch.amp.autocast('cuda', args...)` instead.\n",
      "  with autocast():\n",
      "Época 17:  75%|███████▌  | 36/48 [00:11<00:03,  3.13it/s, pérdida_lote=0.187]<ipython-input-26-ec4cb1da0614>:18: FutureWarning: `torch.cuda.amp.autocast(args...)` is deprecated. Please use `torch.amp.autocast('cuda', args...)` instead.\n",
      "  with autocast():\n",
      "Época 17:  85%|████████▌ | 41/48 [00:13<00:02,  3.15it/s, pérdida_lote=0.121]<ipython-input-26-ec4cb1da0614>:18: FutureWarning: `torch.cuda.amp.autocast(args...)` is deprecated. Please use `torch.amp.autocast('cuda', args...)` instead.\n",
      "  with autocast():\n",
      "Época 17:  92%|█████████▏| 44/48 [00:14<00:01,  3.17it/s, pérdida_lote=0.184]<ipython-input-26-ec4cb1da0614>:18: FutureWarning: `torch.cuda.amp.autocast(args...)` is deprecated. Please use `torch.amp.autocast('cuda', args...)` instead.\n",
      "  with autocast():\n",
      "Época 17:  94%|█████████▍| 45/48 [00:14<00:00,  3.17it/s, pérdida_lote=0.0807]<ipython-input-26-ec4cb1da0614>:18: FutureWarning: `torch.cuda.amp.autocast(args...)` is deprecated. Please use `torch.amp.autocast('cuda', args...)` instead.\n",
      "  with autocast():\n"
     ]
    },
    {
     "name": "stdout",
     "output_type": "stream",
     "text": [
      "📘 Época 17 | Pérdida de entrenamiento: 0.0962 | Val RMSE: 0.6448 | Val MAE: 0.4878 | Val R²: 0.5468\n"
     ]
    },
    {
     "name": "stderr",
     "output_type": "stream",
     "text": [
      "\rÉpoca 18:   0%|          | 0/48 [00:00<?, ?it/s]<ipython-input-26-ec4cb1da0614>:18: FutureWarning: `torch.cuda.amp.autocast(args...)` is deprecated. Please use `torch.amp.autocast('cuda', args...)` instead.\n",
      "  with autocast():\n",
      "Época 18:   6%|▋         | 3/48 [00:00<00:14,  3.10it/s, pérdida_lote=0.0306]<ipython-input-26-ec4cb1da0614>:18: FutureWarning: `torch.cuda.amp.autocast(args...)` is deprecated. Please use `torch.amp.autocast('cuda', args...)` instead.\n",
      "  with autocast():\n",
      "Época 18:  12%|█▎        | 6/48 [00:01<00:13,  3.22it/s, pérdida_lote=0.0433]<ipython-input-26-ec4cb1da0614>:18: FutureWarning: `torch.cuda.amp.autocast(args...)` is deprecated. Please use `torch.amp.autocast('cuda', args...)` instead.\n",
      "  with autocast():\n",
      "Época 18:  19%|█▉        | 9/48 [00:02<00:12,  3.23it/s, pérdida_lote=0.112]<ipython-input-26-ec4cb1da0614>:18: FutureWarning: `torch.cuda.amp.autocast(args...)` is deprecated. Please use `torch.amp.autocast('cuda', args...)` instead.\n",
      "  with autocast():\n",
      "Época 18:  25%|██▌       | 12/48 [00:03<00:11,  3.26it/s, pérdida_lote=0.0971]<ipython-input-26-ec4cb1da0614>:18: FutureWarning: `torch.cuda.amp.autocast(args...)` is deprecated. Please use `torch.amp.autocast('cuda', args...)` instead.\n",
      "  with autocast():\n",
      "Época 18:  35%|███▌      | 17/48 [00:05<00:09,  3.22it/s, pérdida_lote=0.0436]<ipython-input-26-ec4cb1da0614>:18: FutureWarning: `torch.cuda.amp.autocast(args...)` is deprecated. Please use `torch.amp.autocast('cuda', args...)` instead.\n",
      "  with autocast():\n",
      "Época 18:  40%|███▉      | 19/48 [00:05<00:08,  3.24it/s, pérdida_lote=0.106]<ipython-input-26-ec4cb1da0614>:18: FutureWarning: `torch.cuda.amp.autocast(args...)` is deprecated. Please use `torch.amp.autocast('cuda', args...)` instead.\n",
      "  with autocast():\n",
      "Época 18:  46%|████▌     | 22/48 [00:06<00:07,  3.26it/s, pérdida_lote=0.117]<ipython-input-26-ec4cb1da0614>:18: FutureWarning: `torch.cuda.amp.autocast(args...)` is deprecated. Please use `torch.amp.autocast('cuda', args...)` instead.\n",
      "  with autocast():\n",
      "Época 18:  56%|█████▋    | 27/48 [00:08<00:06,  3.28it/s, pérdida_lote=0.028]<ipython-input-26-ec4cb1da0614>:18: FutureWarning: `torch.cuda.amp.autocast(args...)` is deprecated. Please use `torch.amp.autocast('cuda', args...)` instead.\n",
      "  with autocast():\n",
      "Época 18:  60%|██████    | 29/48 [00:08<00:05,  3.28it/s, pérdida_lote=0.071]<ipython-input-26-ec4cb1da0614>:18: FutureWarning: `torch.cuda.amp.autocast(args...)` is deprecated. Please use `torch.amp.autocast('cuda', args...)` instead.\n",
      "  with autocast():\n",
      "Época 18:  65%|██████▍   | 31/48 [00:09<00:05,  3.26it/s, pérdida_lote=0.101]<ipython-input-26-ec4cb1da0614>:18: FutureWarning: `torch.cuda.amp.autocast(args...)` is deprecated. Please use `torch.amp.autocast('cuda', args...)` instead.\n",
      "  with autocast():\n",
      "Época 18:  77%|███████▋  | 37/48 [00:11<00:03,  3.26it/s, pérdida_lote=0.06]<ipython-input-26-ec4cb1da0614>:18: FutureWarning: `torch.cuda.amp.autocast(args...)` is deprecated. Please use `torch.amp.autocast('cuda', args...)` instead.\n",
      "  with autocast():\n",
      "Época 18:  83%|████████▎ | 40/48 [00:12<00:02,  3.22it/s, pérdida_lote=0.152]<ipython-input-26-ec4cb1da0614>:18: FutureWarning: `torch.cuda.amp.autocast(args...)` is deprecated. Please use `torch.amp.autocast('cuda', args...)` instead.\n",
      "  with autocast():\n",
      "Época 18:  90%|████████▉ | 43/48 [00:13<00:01,  3.16it/s, pérdida_lote=0.208]<ipython-input-26-ec4cb1da0614>:18: FutureWarning: `torch.cuda.amp.autocast(args...)` is deprecated. Please use `torch.amp.autocast('cuda', args...)` instead.\n",
      "  with autocast():\n",
      "Época 18:  94%|█████████▍| 45/48 [00:13<00:00,  3.22it/s, pérdida_lote=0.216]<ipython-input-26-ec4cb1da0614>:18: FutureWarning: `torch.cuda.amp.autocast(args...)` is deprecated. Please use `torch.amp.autocast('cuda', args...)` instead.\n",
      "  with autocast():\n"
     ]
    },
    {
     "name": "stdout",
     "output_type": "stream",
     "text": [
      "📘 Época 18 | Pérdida de entrenamiento: 0.0820 | Val RMSE: 0.6009 | Val MAE: 0.4624 | Val R²: 0.6064\n"
     ]
    },
    {
     "name": "stderr",
     "output_type": "stream",
     "text": [
      "\rÉpoca 19:   0%|          | 0/48 [00:00<?, ?it/s]<ipython-input-26-ec4cb1da0614>:18: FutureWarning: `torch.cuda.amp.autocast(args...)` is deprecated. Please use `torch.amp.autocast('cuda', args...)` instead.\n",
      "  with autocast():\n",
      "Época 19:  10%|█         | 5/48 [00:01<00:12,  3.31it/s, pérdida_lote=0.126]<ipython-input-26-ec4cb1da0614>:18: FutureWarning: `torch.cuda.amp.autocast(args...)` is deprecated. Please use `torch.amp.autocast('cuda', args...)` instead.\n",
      "  with autocast():\n",
      "Época 19:  12%|█▎        | 6/48 [00:01<00:12,  3.30it/s, pérdida_lote=0.0491]<ipython-input-26-ec4cb1da0614>:18: FutureWarning: `torch.cuda.amp.autocast(args...)` is deprecated. Please use `torch.amp.autocast('cuda', args...)` instead.\n",
      "  with autocast():\n",
      "Época 19:  25%|██▌       | 12/48 [00:03<00:10,  3.30it/s, pérdida_lote=0.0552]<ipython-input-26-ec4cb1da0614>:18: FutureWarning: `torch.cuda.amp.autocast(args...)` is deprecated. Please use `torch.amp.autocast('cuda', args...)` instead.\n",
      "  with autocast():\n",
      "Época 19:  27%|██▋       | 13/48 [00:03<00:10,  3.29it/s, pérdida_lote=0.0355]<ipython-input-26-ec4cb1da0614>:18: FutureWarning: `torch.cuda.amp.autocast(args...)` is deprecated. Please use `torch.amp.autocast('cuda', args...)` instead.\n",
      "  with autocast():\n",
      "Época 19:  33%|███▎      | 16/48 [00:04<00:09,  3.25it/s, pérdida_lote=0.112]<ipython-input-26-ec4cb1da0614>:18: FutureWarning: `torch.cuda.amp.autocast(args...)` is deprecated. Please use `torch.amp.autocast('cuda', args...)` instead.\n",
      "  with autocast():\n",
      "Época 19:  44%|████▍     | 21/48 [00:06<00:08,  3.27it/s, pérdida_lote=0.0349]<ipython-input-26-ec4cb1da0614>:18: FutureWarning: `torch.cuda.amp.autocast(args...)` is deprecated. Please use `torch.amp.autocast('cuda', args...)` instead.\n",
      "  with autocast():\n",
      "Época 19:  52%|█████▏    | 25/48 [00:07<00:07,  3.25it/s, pérdida_lote=0.0995]<ipython-input-26-ec4cb1da0614>:18: FutureWarning: `torch.cuda.amp.autocast(args...)` is deprecated. Please use `torch.amp.autocast('cuda', args...)` instead.\n",
      "  with autocast():\n",
      "Época 19:  54%|█████▍    | 26/48 [00:07<00:06,  3.27it/s, pérdida_lote=0.0839]<ipython-input-26-ec4cb1da0614>:18: FutureWarning: `torch.cuda.amp.autocast(args...)` is deprecated. Please use `torch.amp.autocast('cuda', args...)` instead.\n",
      "  with autocast():\n",
      "Época 19:  60%|██████    | 29/48 [00:08<00:05,  3.31it/s, pérdida_lote=0.0292]<ipython-input-26-ec4cb1da0614>:18: FutureWarning: `torch.cuda.amp.autocast(args...)` is deprecated. Please use `torch.amp.autocast('cuda', args...)` instead.\n",
      "  with autocast():\n",
      "Época 19:  67%|██████▋   | 32/48 [00:09<00:04,  3.29it/s, pérdida_lote=0.357]<ipython-input-26-ec4cb1da0614>:18: FutureWarning: `torch.cuda.amp.autocast(args...)` is deprecated. Please use `torch.amp.autocast('cuda', args...)` instead.\n",
      "  with autocast():\n",
      "Época 19:  73%|███████▎  | 35/48 [00:10<00:04,  3.24it/s, pérdida_lote=0.0526]<ipython-input-26-ec4cb1da0614>:18: FutureWarning: `torch.cuda.amp.autocast(args...)` is deprecated. Please use `torch.amp.autocast('cuda', args...)` instead.\n",
      "  with autocast():\n",
      "Época 19:  85%|████████▌ | 41/48 [00:12<00:02,  3.29it/s, pérdida_lote=0.064]<ipython-input-26-ec4cb1da0614>:18: FutureWarning: `torch.cuda.amp.autocast(args...)` is deprecated. Please use `torch.amp.autocast('cuda', args...)` instead.\n",
      "  with autocast():\n",
      "Época 19:  92%|█████████▏| 44/48 [00:13<00:01,  3.29it/s, pérdida_lote=0.135]<ipython-input-26-ec4cb1da0614>:18: FutureWarning: `torch.cuda.amp.autocast(args...)` is deprecated. Please use `torch.amp.autocast('cuda', args...)` instead.\n",
      "  with autocast():\n",
      "Época 19:  94%|█████████▍| 45/48 [00:13<00:00,  3.30it/s, pérdida_lote=0.0913]<ipython-input-26-ec4cb1da0614>:18: FutureWarning: `torch.cuda.amp.autocast(args...)` is deprecated. Please use `torch.amp.autocast('cuda', args...)` instead.\n",
      "  with autocast():\n"
     ]
    },
    {
     "name": "stdout",
     "output_type": "stream",
     "text": [
      "📘 Época 19 | Pérdida de entrenamiento: 0.0845 | Val RMSE: 0.5907 | Val MAE: 0.4540 | Val R²: 0.6197\n",
      "Detención temprana en la época 19\n"
     ]
    },
    {
     "data": {
      "text/plain": [
       "0.08445967696995164"
      ]
     },
     "execution_count": 27,
     "metadata": {},
     "output_type": "execute_result"
    }
   ],
   "source": [
    "EPOCHS = 50\n",
    "train(model, train_loader, val_loader, optimizer, loss_fn, device, EPOCHS)"
   ]
  },
  {
   "cell_type": "code",
   "execution_count": null,
   "id": "9a8a2dca",
   "metadata": {
    "colab": {
     "base_uri": "https://localhost:8080/"
    },
    "executionInfo": {
     "elapsed": 5923,
     "status": "ok",
     "timestamp": 1749067175307,
     "user": {
      "displayName": "Felix Suarez",
      "userId": "01239497444738052014"
     },
     "user_tz": 300
    },
    "id": "9a8a2dca",
    "outputId": "205fcea5-0460-4eec-a982-e64013c9b660"
   },
   "outputs": [
    {
     "name": "stderr",
     "output_type": "stream",
     "text": []
    },
    {
     "name": "stdout",
     "output_type": "stream",
     "text": [
      "\n",
      "📌 Evaluación en conjunto de prueba:\n",
      "RMSE: 0.8251\n",
      "MAE : 0.5573\n",
      "R²  : 0.5808\n"
     ]
    }
   ],
   "source": [
    "rmse, mae, r2, preds, actuals = evaluate(model, test_loader, device)\n",
    "print(\"\\n📌 Evaluación en conjunto de prueba:\")\n",
    "print(f\"RMSE: {rmse:.4f}\")\n",
    "print(f\"MAE : {mae:.4f}\")\n",
    "print(f\"R²  : {r2:.4f}\")\n",
    "\n",
    "#Desescalar predicciones y valores reales para interpretación\n",
    "scaler = joblib.load(\"./saved_model/scaler.pkl\")\n",
    "actuals_unscaled = scaler.inverse_transform(actuals.reshape(-1, 1)).flatten()\n",
    "preds_unscaled = scaler.inverse_transform(preds.reshape(-1, 1)).flatten()\n",
    "\n",
    "# Guardar resultados desescalados\n",
    "df_results_unscaled = pd.DataFrame({\n",
    "    \"real\": actuals_unscaled,\n",
    "    \"predicho\": preds_unscaled\n",
    "})"
   ]
  }
 ],
 "metadata": {
  "accelerator": "GPU",
  "colab": {
   "gpuType": "T4",
   "provenance": []
  },
  "kernelspec": {
   "display_name": "Python 3",
   "name": "python3"
  },
  "language_info": {
   "name": "python"
  }
 },
 "nbformat": 4,
 "nbformat_minor": 5
}
